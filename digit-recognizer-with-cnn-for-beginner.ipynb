{
 "cells": [
  {
   "cell_type": "markdown",
   "id": "c197d78b",
   "metadata": {
    "papermill": {
     "duration": 0.021379,
     "end_time": "2022-08-01T05:40:53.637439",
     "exception": false,
     "start_time": "2022-08-01T05:40:53.616060",
     "status": "completed"
    },
    "tags": []
   },
   "source": [
    "# 准备工作"
   ]
  },
  {
   "cell_type": "markdown",
   "id": "6043d757",
   "metadata": {
    "papermill": {
     "duration": 0.017781,
     "end_time": "2022-08-01T05:40:53.673475",
     "exception": false,
     "start_time": "2022-08-01T05:40:53.655694",
     "status": "completed"
    },
    "tags": []
   },
   "source": [
    "## 数据集介绍"
   ]
  },
  {
   "cell_type": "markdown",
   "id": "c68a4c82",
   "metadata": {
    "papermill": {
     "duration": 0.017734,
     "end_time": "2022-08-01T05:40:53.709284",
     "exception": false,
     "start_time": "2022-08-01T05:40:53.691550",
     "status": "completed"
    },
    "tags": []
   },
   "source": [
    "数据文件 train.csv 和 test.csv 包含从零到九的手绘数字的灰度图像。\n",
    "\n",
    "每张图像高 28 像素，宽 28 像素，总共 784 像素。每个像素都有一个与之关联的像素值，表示该像素的亮度或暗度，数字越大表示越暗。该像素值是介于 0 和 255 之间的整数，包括 0 和 255。\n",
    "\n",
    "训练数据集 (train.csv) 有 785 列。第一列称为“标签”，是用户绘制的数字。其余列包含相关图像的像素值。\n",
    "\n",
    "训练集中的每个像素列都有一个类似 pixelx 的名称，其中 x 是 0 到 783 之间的整数，包括 0 到 783。要在图像上定位该像素，假设我们已将 x 分解为 x = i * 28 + j，其中 i 和 j 是 0 到 27 之间的整数，包括 0 和 27。然后 pixelx 位于 28 x 28 矩阵的第 i 行和第 j 列（索引为零）。\n",
    "\n",
    "例如，pixel31 表示左数第四列、上数第二行的像素，如下面的 ascii 图表所示。\n",
    "\n",
    "从视觉上看，如果我们省略“像素”前缀，像素组成图像如下："
   ]
  },
  {
   "attachments": {
    "%E5%9B%BE%E7%89%87.png": {
     "image/png": "[encoded data removed]"
    }
   },
   "cell_type": "markdown",
   "id": "5869132d",
   "metadata": {
    "papermill": {
     "duration": 0.017809,
     "end_time": "2022-08-01T05:40:53.744918",
     "exception": false,
     "start_time": "2022-08-01T05:40:53.727109",
     "status": "completed"
    },
    "tags": []
   },
   "source": [
    "![%E5%9B%BE%E7%89%87.png](attachment:%E5%9B%BE%E7%89%87.png)"
   ]
  },
  {
   "cell_type": "markdown",
   "id": "74b3dfc8",
   "metadata": {
    "papermill": {
     "duration": 0.018304,
     "end_time": "2022-08-01T05:40:53.781256",
     "exception": false,
     "start_time": "2022-08-01T05:40:53.762952",
     "status": "completed"
    },
    "tags": []
   },
   "source": [
    "测试数据集 (test.csv) 与训练集相同，只是它不包含“标签”列。\n",
    "\n",
    "您的提交文件应采用以下格式：对于测试集中的 28000 张图像中的每一张，输出一行包含 ImageId 和您预测的数字。例如，如果您预测第一张图像是 3，第二张图像是 7，第三张图像是 8，那么您的提交文件将如下所示："
   ]
  },
  {
   "cell_type": "markdown",
   "id": "4ba632a1",
   "metadata": {
    "papermill": {
     "duration": 0.017841,
     "end_time": "2022-08-01T05:40:53.817102",
     "exception": false,
     "start_time": "2022-08-01T05:40:53.799261",
     "status": "completed"
    },
    "tags": []
   },
   "source": [
    "​```\n",
    "ImageId,Label\n",
    "1,3\n",
    "2,7\n",
    "3,8 \n",
    "(27997 more lines)\n",
    "​```"
   ]
  },
  {
   "cell_type": "markdown",
   "id": "9272d07d",
   "metadata": {
    "papermill": {
     "duration": 0.02662,
     "end_time": "2022-08-01T05:40:53.861719",
     "exception": false,
     "start_time": "2022-08-01T05:40:53.835099",
     "status": "completed"
    },
    "tags": []
   },
   "source": [
    "本次比赛的评价指标是分类准确率，或者说测试图像被正确分类的比例。例如，0.97 的分类准确度表示您已正确分类除 3% 的图像之外的所有图像。"
   ]
  },
  {
   "cell_type": "markdown",
   "id": "35812333",
   "metadata": {
    "_cell_guid": "db363533-0f95-48b9-9545-849b694d364b",
    "_uuid": "39a160ad-24fa-495a-9fc8-c5b5de34417b",
    "papermill": {
     "duration": 0.027792,
     "end_time": "2022-08-01T05:40:53.917794",
     "exception": false,
     "start_time": "2022-08-01T05:40:53.890002",
     "status": "completed"
    },
    "tags": []
   },
   "source": [
    "## 导入包"
   ]
  },
  {
   "cell_type": "code",
   "execution_count": 1,
   "id": "e568278a",
   "metadata": {
    "_cell_guid": "607187be-df2f-468c-918a-658b8496c0bb",
    "_uuid": "49b99a95-9088-48e1-9896-fcfbfe5708c1",
    "collapsed": false,
    "execution": {
     "iopub.execute_input": "2022-08-01T05:40:53.974431Z",
     "iopub.status.busy": "2022-08-01T05:40:53.973824Z",
     "iopub.status.idle": "2022-08-01T05:40:54.945478Z",
     "shell.execute_reply": "2022-08-01T05:40:54.944510Z"
    },
    "jupyter": {
     "outputs_hidden": false
    },
    "papermill": {
     "duration": 1.002774,
     "end_time": "2022-08-01T05:40:54.948471",
     "exception": false,
     "start_time": "2022-08-01T05:40:53.945697",
     "status": "completed"
    },
    "tags": []
   },
   "outputs": [],
   "source": [
    "import numpy as np\n",
    "import pandas as pd\n",
    "import seaborn as sns\n",
    "import matplotlib.pyplot as plt\n",
    "%matplotlib inline"
   ]
  },
  {
   "cell_type": "markdown",
   "id": "470bb675",
   "metadata": {
    "papermill": {
     "duration": 0.018682,
     "end_time": "2022-08-01T05:40:54.985836",
     "exception": false,
     "start_time": "2022-08-01T05:40:54.967154",
     "status": "completed"
    },
    "tags": []
   },
   "source": [
    "## 读取数据集"
   ]
  },
  {
   "cell_type": "code",
   "execution_count": 2,
   "id": "da0f349b",
   "metadata": {
    "_cell_guid": "16d88abf-a6bd-43bd-af8c-6be22f67fdd6",
    "_uuid": "f7a1a6cf-bad3-4577-a99d-f53bb3025258",
    "collapsed": false,
    "execution": {
     "iopub.execute_input": "2022-08-01T05:40:55.023537Z",
     "iopub.status.busy": "2022-08-01T05:40:55.023217Z",
     "iopub.status.idle": "2022-08-01T05:40:58.181136Z",
     "shell.execute_reply": "2022-08-01T05:40:58.180113Z"
    },
    "jupyter": {
     "outputs_hidden": false
    },
    "papermill": {
     "duration": 3.179513,
     "end_time": "2022-08-01T05:40:58.183705",
     "exception": false,
     "start_time": "2022-08-01T05:40:55.004192",
     "status": "completed"
    },
    "tags": []
   },
   "outputs": [],
   "source": [
    "train = pd.read_csv('../input/digit-recognizer/train.csv')"
   ]
  },
  {
   "cell_type": "code",
   "execution_count": 3,
   "id": "24034fbf",
   "metadata": {
    "_cell_guid": "9e9d0b66-4064-484e-b702-131f55191075",
    "_uuid": "855dc04b-6e85-4e5a-ad3b-efa55cafcc2b",
    "collapsed": false,
    "execution": {
     "iopub.execute_input": "2022-08-01T05:40:58.222107Z",
     "iopub.status.busy": "2022-08-01T05:40:58.221553Z",
     "iopub.status.idle": "2022-08-01T05:41:00.120121Z",
     "shell.execute_reply": "2022-08-01T05:41:00.118921Z"
    },
    "jupyter": {
     "outputs_hidden": false
    },
    "papermill": {
     "duration": 1.920407,
     "end_time": "2022-08-01T05:41:00.122698",
     "exception": false,
     "start_time": "2022-08-01T05:40:58.202291",
     "status": "completed"
    },
    "tags": []
   },
   "outputs": [],
   "source": [
    "test = pd.read_csv('../input/digit-recognizer/test.csv')"
   ]
  },
  {
   "cell_type": "markdown",
   "id": "89f7cc71",
   "metadata": {
    "papermill": {
     "duration": 0.01854,
     "end_time": "2022-08-01T05:41:00.159865",
     "exception": false,
     "start_time": "2022-08-01T05:41:00.141325",
     "status": "completed"
    },
    "tags": []
   },
   "source": [
    "## 查看数据特征"
   ]
  },
  {
   "cell_type": "code",
   "execution_count": 4,
   "id": "2f1a843a",
   "metadata": {
    "_cell_guid": "3f9fd73c-d27e-4894-9415-8e25ca4b5c4f",
    "_uuid": "c380efe0-8dea-4b64-ae28-9ccc0975d062",
    "collapsed": false,
    "execution": {
     "iopub.execute_input": "2022-08-01T05:41:00.197441Z",
     "iopub.status.busy": "2022-08-01T05:41:00.197099Z",
     "iopub.status.idle": "2022-08-01T05:41:00.223189Z",
     "shell.execute_reply": "2022-08-01T05:41:00.222332Z"
    },
    "jupyter": {
     "outputs_hidden": false
    },
    "papermill": {
     "duration": 0.047537,
     "end_time": "2022-08-01T05:41:00.225637",
     "exception": false,
     "start_time": "2022-08-01T05:41:00.178100",
     "status": "completed"
    },
    "tags": []
   },
   "outputs": [
    {
     "data": {
      "text/html": [
       "<div>\n",
       "<style scoped>\n",
       "    .dataframe tbody tr th:only-of-type {\n",
       "        vertical-align: middle;\n",
       "    }\n",
       "\n",
       "    .dataframe tbody tr th {\n",
       "        vertical-align: top;\n",
       "    }\n",
       "\n",
       "    .dataframe thead th {\n",
       "        text-align: right;\n",
       "    }\n",
       "</style>\n",
       "<table border=\"1\" class=\"dataframe\">\n",
       "  <thead>\n",
       "    <tr style=\"text-align: right;\">\n",
       "      <th></th>\n",
       "      <th>label</th>\n",
       "      <th>pixel0</th>\n",
       "      <th>pixel1</th>\n",
       "      <th>pixel2</th>\n",
       "      <th>pixel3</th>\n",
       "      <th>pixel4</th>\n",
       "      <th>pixel5</th>\n",
       "      <th>pixel6</th>\n",
       "      <th>pixel7</th>\n",
       "      <th>pixel8</th>\n",
       "      <th>...</th>\n",
       "      <th>pixel774</th>\n",
       "      <th>pixel775</th>\n",
       "      <th>pixel776</th>\n",
       "      <th>pixel777</th>\n",
       "      <th>pixel778</th>\n",
       "      <th>pixel779</th>\n",
       "      <th>pixel780</th>\n",
       "      <th>pixel781</th>\n",
       "      <th>pixel782</th>\n",
       "      <th>pixel783</th>\n",
       "    </tr>\n",
       "  </thead>\n",
       "  <tbody>\n",
       "    <tr>\n",
       "      <th>0</th>\n",
       "      <td>1</td>\n",
       "      <td>0</td>\n",
       "      <td>0</td>\n",
       "      <td>0</td>\n",
       "      <td>0</td>\n",
       "      <td>0</td>\n",
       "      <td>0</td>\n",
       "      <td>0</td>\n",
       "      <td>0</td>\n",
       "      <td>0</td>\n",
       "      <td>...</td>\n",
       "      <td>0</td>\n",
       "      <td>0</td>\n",
       "      <td>0</td>\n",
       "      <td>0</td>\n",
       "      <td>0</td>\n",
       "      <td>0</td>\n",
       "      <td>0</td>\n",
       "      <td>0</td>\n",
       "      <td>0</td>\n",
       "      <td>0</td>\n",
       "    </tr>\n",
       "    <tr>\n",
       "      <th>1</th>\n",
       "      <td>0</td>\n",
       "      <td>0</td>\n",
       "      <td>0</td>\n",
       "      <td>0</td>\n",
       "      <td>0</td>\n",
       "      <td>0</td>\n",
       "      <td>0</td>\n",
       "      <td>0</td>\n",
       "      <td>0</td>\n",
       "      <td>0</td>\n",
       "      <td>...</td>\n",
       "      <td>0</td>\n",
       "      <td>0</td>\n",
       "      <td>0</td>\n",
       "      <td>0</td>\n",
       "      <td>0</td>\n",
       "      <td>0</td>\n",
       "      <td>0</td>\n",
       "      <td>0</td>\n",
       "      <td>0</td>\n",
       "      <td>0</td>\n",
       "    </tr>\n",
       "    <tr>\n",
       "      <th>2</th>\n",
       "      <td>1</td>\n",
       "      <td>0</td>\n",
       "      <td>0</td>\n",
       "      <td>0</td>\n",
       "      <td>0</td>\n",
       "      <td>0</td>\n",
       "      <td>0</td>\n",
       "      <td>0</td>\n",
       "      <td>0</td>\n",
       "      <td>0</td>\n",
       "      <td>...</td>\n",
       "      <td>0</td>\n",
       "      <td>0</td>\n",
       "      <td>0</td>\n",
       "      <td>0</td>\n",
       "      <td>0</td>\n",
       "      <td>0</td>\n",
       "      <td>0</td>\n",
       "      <td>0</td>\n",
       "      <td>0</td>\n",
       "      <td>0</td>\n",
       "    </tr>\n",
       "    <tr>\n",
       "      <th>3</th>\n",
       "      <td>4</td>\n",
       "      <td>0</td>\n",
       "      <td>0</td>\n",
       "      <td>0</td>\n",
       "      <td>0</td>\n",
       "      <td>0</td>\n",
       "      <td>0</td>\n",
       "      <td>0</td>\n",
       "      <td>0</td>\n",
       "      <td>0</td>\n",
       "      <td>...</td>\n",
       "      <td>0</td>\n",
       "      <td>0</td>\n",
       "      <td>0</td>\n",
       "      <td>0</td>\n",
       "      <td>0</td>\n",
       "      <td>0</td>\n",
       "      <td>0</td>\n",
       "      <td>0</td>\n",
       "      <td>0</td>\n",
       "      <td>0</td>\n",
       "    </tr>\n",
       "    <tr>\n",
       "      <th>4</th>\n",
       "      <td>0</td>\n",
       "      <td>0</td>\n",
       "      <td>0</td>\n",
       "      <td>0</td>\n",
       "      <td>0</td>\n",
       "      <td>0</td>\n",
       "      <td>0</td>\n",
       "      <td>0</td>\n",
       "      <td>0</td>\n",
       "      <td>0</td>\n",
       "      <td>...</td>\n",
       "      <td>0</td>\n",
       "      <td>0</td>\n",
       "      <td>0</td>\n",
       "      <td>0</td>\n",
       "      <td>0</td>\n",
       "      <td>0</td>\n",
       "      <td>0</td>\n",
       "      <td>0</td>\n",
       "      <td>0</td>\n",
       "      <td>0</td>\n",
       "    </tr>\n",
       "  </tbody>\n",
       "</table>\n",
       "<p>5 rows × 785 columns</p>\n",
       "</div>"
      ],
      "text/plain": [
       "   label  pixel0  pixel1  pixel2  pixel3  pixel4  pixel5  pixel6  pixel7  \\\n",
       "0      1       0       0       0       0       0       0       0       0   \n",
       "1      0       0       0       0       0       0       0       0       0   \n",
       "2      1       0       0       0       0       0       0       0       0   \n",
       "3      4       0       0       0       0       0       0       0       0   \n",
       "4      0       0       0       0       0       0       0       0       0   \n",
       "\n",
       "   pixel8  ...  pixel774  pixel775  pixel776  pixel777  pixel778  pixel779  \\\n",
       "0       0  ...         0         0         0         0         0         0   \n",
       "1       0  ...         0         0         0         0         0         0   \n",
       "2       0  ...         0         0         0         0         0         0   \n",
       "3       0  ...         0         0         0         0         0         0   \n",
       "4       0  ...         0         0         0         0         0         0   \n",
       "\n",
       "   pixel780  pixel781  pixel782  pixel783  \n",
       "0         0         0         0         0  \n",
       "1         0         0         0         0  \n",
       "2         0         0         0         0  \n",
       "3         0         0         0         0  \n",
       "4         0         0         0         0  \n",
       "\n",
       "[5 rows x 785 columns]"
      ]
     },
     "execution_count": 4,
     "metadata": {},
     "output_type": "execute_result"
    }
   ],
   "source": [
    "train.head()"
   ]
  },
  {
   "cell_type": "code",
   "execution_count": 5,
   "id": "f92b5537",
   "metadata": {
    "_cell_guid": "89058174-dbba-4453-a3f8-035d866abe15",
    "_uuid": "89618ecd-5f42-4bef-90fa-020fcc9c2638",
    "collapsed": false,
    "execution": {
     "iopub.execute_input": "2022-08-01T05:41:00.264475Z",
     "iopub.status.busy": "2022-08-01T05:41:00.263726Z",
     "iopub.status.idle": "2022-08-01T05:41:00.318240Z",
     "shell.execute_reply": "2022-08-01T05:41:00.316805Z"
    },
    "jupyter": {
     "outputs_hidden": false
    },
    "papermill": {
     "duration": 0.076207,
     "end_time": "2022-08-01T05:41:00.320560",
     "exception": false,
     "start_time": "2022-08-01T05:41:00.244353",
     "status": "completed"
    },
    "tags": []
   },
   "outputs": [
    {
     "name": "stdout",
     "output_type": "stream",
     "text": [
      "<class 'pandas.core.frame.DataFrame'>\n",
      "RangeIndex: 42000 entries, 0 to 41999\n",
      "Columns: 785 entries, label to pixel783\n",
      "dtypes: int64(785)\n",
      "memory usage: 251.5 MB\n"
     ]
    }
   ],
   "source": [
    "train.info()"
   ]
  },
  {
   "cell_type": "code",
   "execution_count": 6,
   "id": "20bfd148",
   "metadata": {
    "_cell_guid": "ad70cc93-b2c3-4e8c-8d4f-aa65f0c4b3e0",
    "_uuid": "f1e264e6-7bbf-41c9-95fb-73ae83833ccd",
    "collapsed": false,
    "execution": {
     "iopub.execute_input": "2022-08-01T05:41:00.360060Z",
     "iopub.status.busy": "2022-08-01T05:41:00.359787Z",
     "iopub.status.idle": "2022-08-01T05:41:00.405451Z",
     "shell.execute_reply": "2022-08-01T05:41:00.404427Z"
    },
    "jupyter": {
     "outputs_hidden": false
    },
    "papermill": {
     "duration": 0.06758,
     "end_time": "2022-08-01T05:41:00.407775",
     "exception": false,
     "start_time": "2022-08-01T05:41:00.340195",
     "status": "completed"
    },
    "tags": []
   },
   "outputs": [
    {
     "data": {
      "text/plain": [
       "label       0\n",
       "pixel0      0\n",
       "pixel1      0\n",
       "pixel2      0\n",
       "pixel3      0\n",
       "           ..\n",
       "pixel779    0\n",
       "pixel780    0\n",
       "pixel781    0\n",
       "pixel782    0\n",
       "pixel783    0\n",
       "Length: 785, dtype: int64"
      ]
     },
     "execution_count": 6,
     "metadata": {},
     "output_type": "execute_result"
    }
   ],
   "source": [
    "train.isnull().sum()"
   ]
  },
  {
   "cell_type": "code",
   "execution_count": 7,
   "id": "2abb8178",
   "metadata": {
    "_cell_guid": "092ad2c3-a4bc-4f17-904f-0e5e17878a15",
    "_uuid": "9dcc3140-afbb-4628-9924-16e4a73ecf98",
    "collapsed": false,
    "execution": {
     "iopub.execute_input": "2022-08-01T05:41:00.447428Z",
     "iopub.status.busy": "2022-08-01T05:41:00.447124Z",
     "iopub.status.idle": "2022-08-01T05:41:00.490795Z",
     "shell.execute_reply": "2022-08-01T05:41:00.489779Z"
    },
    "jupyter": {
     "outputs_hidden": false
    },
    "papermill": {
     "duration": 0.066368,
     "end_time": "2022-08-01T05:41:00.493081",
     "exception": false,
     "start_time": "2022-08-01T05:41:00.426713",
     "status": "completed"
    },
    "tags": []
   },
   "outputs": [
    {
     "data": {
      "text/plain": [
       "0"
      ]
     },
     "execution_count": 7,
     "metadata": {},
     "output_type": "execute_result"
    }
   ],
   "source": [
    "sum(train.isnull().sum())"
   ]
  },
  {
   "cell_type": "markdown",
   "id": "49b46754",
   "metadata": {
    "papermill": {
     "duration": 0.018801,
     "end_time": "2022-08-01T05:41:00.530770",
     "exception": false,
     "start_time": "2022-08-01T05:41:00.511969",
     "status": "completed"
    },
    "tags": []
   },
   "source": [
    "# 预处理训练集|测试集"
   ]
  },
  {
   "cell_type": "code",
   "execution_count": 8,
   "id": "b58ca819",
   "metadata": {
    "_cell_guid": "0537764b-34c1-42c6-a095-049a30c165c3",
    "_uuid": "5661fffc-1852-4842-b3f5-fca173c9ce87",
    "collapsed": false,
    "execution": {
     "iopub.execute_input": "2022-08-01T05:41:00.570362Z",
     "iopub.status.busy": "2022-08-01T05:41:00.570065Z",
     "iopub.status.idle": "2022-08-01T05:41:00.574823Z",
     "shell.execute_reply": "2022-08-01T05:41:00.573804Z"
    },
    "jupyter": {
     "outputs_hidden": false
    },
    "papermill": {
     "duration": 0.027294,
     "end_time": "2022-08-01T05:41:00.577017",
     "exception": false,
     "start_time": "2022-08-01T05:41:00.549723",
     "status": "completed"
    },
    "tags": []
   },
   "outputs": [],
   "source": [
    "#y_train 是数字标签\n",
    "y_train = train['label'].copy()"
   ]
  },
  {
   "cell_type": "code",
   "execution_count": 9,
   "id": "773fed5a",
   "metadata": {
    "_cell_guid": "4fb6593e-6a63-4d47-a4a1-a4ec190c32ff",
    "_uuid": "c4fb3bfb-db47-463a-853b-983eb72a6e58",
    "collapsed": false,
    "execution": {
     "iopub.execute_input": "2022-08-01T05:41:00.616047Z",
     "iopub.status.busy": "2022-08-01T05:41:00.615773Z",
     "iopub.status.idle": "2022-08-01T05:41:00.697509Z",
     "shell.execute_reply": "2022-08-01T05:41:00.696484Z"
    },
    "jupyter": {
     "outputs_hidden": false
    },
    "papermill": {
     "duration": 0.103983,
     "end_time": "2022-08-01T05:41:00.700143",
     "exception": false,
     "start_time": "2022-08-01T05:41:00.596160",
     "status": "completed"
    },
    "tags": []
   },
   "outputs": [],
   "source": [
    "#X_train 是各像素亮度值\n",
    "X_train = train.drop('label',axis=1)"
   ]
  },
  {
   "cell_type": "code",
   "execution_count": 10,
   "id": "8df51ffc",
   "metadata": {
    "_cell_guid": "5ffb65bb-cdc7-478f-a2a2-dba2dfefc015",
    "_uuid": "c24ae581-89b2-4992-a184-c1a1f3b2f48e",
    "collapsed": false,
    "execution": {
     "iopub.execute_input": "2022-08-01T05:41:00.740362Z",
     "iopub.status.busy": "2022-08-01T05:41:00.739571Z",
     "iopub.status.idle": "2022-08-01T05:41:00.748147Z",
     "shell.execute_reply": "2022-08-01T05:41:00.747089Z"
    },
    "jupyter": {
     "outputs_hidden": false
    },
    "papermill": {
     "duration": 0.031646,
     "end_time": "2022-08-01T05:41:00.750908",
     "exception": false,
     "start_time": "2022-08-01T05:41:00.719262",
     "status": "completed"
    },
    "tags": []
   },
   "outputs": [
    {
     "data": {
      "text/plain": [
       "1    4684\n",
       "7    4401\n",
       "3    4351\n",
       "9    4188\n",
       "2    4177\n",
       "6    4137\n",
       "0    4132\n",
       "4    4072\n",
       "8    4063\n",
       "5    3795\n",
       "Name: label, dtype: int64"
      ]
     },
     "execution_count": 10,
     "metadata": {},
     "output_type": "execute_result"
    }
   ],
   "source": [
    "y_train.value_counts()"
   ]
  },
  {
   "cell_type": "code",
   "execution_count": 11,
   "id": "394b64b4",
   "metadata": {
    "_cell_guid": "f4cf714c-28ec-44a2-b97c-ab25e637203a",
    "_uuid": "19009635-66c5-470a-ba56-93403ada4a03",
    "collapsed": false,
    "execution": {
     "iopub.execute_input": "2022-08-01T05:41:00.790218Z",
     "iopub.status.busy": "2022-08-01T05:41:00.789946Z",
     "iopub.status.idle": "2022-08-01T05:41:00.797744Z",
     "shell.execute_reply": "2022-08-01T05:41:00.796792Z"
    },
    "jupyter": {
     "outputs_hidden": false
    },
    "papermill": {
     "duration": 0.029947,
     "end_time": "2022-08-01T05:41:00.799980",
     "exception": false,
     "start_time": "2022-08-01T05:41:00.770033",
     "status": "completed"
    },
    "tags": []
   },
   "outputs": [],
   "source": [
    "y_train = pd.get_dummies(y_train,prefix='Num')"
   ]
  },
  {
   "cell_type": "code",
   "execution_count": 12,
   "id": "a47c8b0c",
   "metadata": {
    "_cell_guid": "db1cfaa0-c84a-41d3-8fcd-f6f7a1f03580",
    "_uuid": "19821f28-4706-4f16-8d62-54809dc4ee09",
    "collapsed": false,
    "execution": {
     "iopub.execute_input": "2022-08-01T05:41:00.841001Z",
     "iopub.status.busy": "2022-08-01T05:41:00.840709Z",
     "iopub.status.idle": "2022-08-01T05:41:00.854841Z",
     "shell.execute_reply": "2022-08-01T05:41:00.853734Z"
    },
    "jupyter": {
     "outputs_hidden": false
    },
    "papermill": {
     "duration": 0.038321,
     "end_time": "2022-08-01T05:41:00.857495",
     "exception": false,
     "start_time": "2022-08-01T05:41:00.819174",
     "status": "completed"
    },
    "tags": []
   },
   "outputs": [
    {
     "data": {
      "text/html": [
       "<div>\n",
       "<style scoped>\n",
       "    .dataframe tbody tr th:only-of-type {\n",
       "        vertical-align: middle;\n",
       "    }\n",
       "\n",
       "    .dataframe tbody tr th {\n",
       "        vertical-align: top;\n",
       "    }\n",
       "\n",
       "    .dataframe thead th {\n",
       "        text-align: right;\n",
       "    }\n",
       "</style>\n",
       "<table border=\"1\" class=\"dataframe\">\n",
       "  <thead>\n",
       "    <tr style=\"text-align: right;\">\n",
       "      <th></th>\n",
       "      <th>Num_0</th>\n",
       "      <th>Num_1</th>\n",
       "      <th>Num_2</th>\n",
       "      <th>Num_3</th>\n",
       "      <th>Num_4</th>\n",
       "      <th>Num_5</th>\n",
       "      <th>Num_6</th>\n",
       "      <th>Num_7</th>\n",
       "      <th>Num_8</th>\n",
       "      <th>Num_9</th>\n",
       "    </tr>\n",
       "  </thead>\n",
       "  <tbody>\n",
       "    <tr>\n",
       "      <th>0</th>\n",
       "      <td>0</td>\n",
       "      <td>1</td>\n",
       "      <td>0</td>\n",
       "      <td>0</td>\n",
       "      <td>0</td>\n",
       "      <td>0</td>\n",
       "      <td>0</td>\n",
       "      <td>0</td>\n",
       "      <td>0</td>\n",
       "      <td>0</td>\n",
       "    </tr>\n",
       "    <tr>\n",
       "      <th>1</th>\n",
       "      <td>1</td>\n",
       "      <td>0</td>\n",
       "      <td>0</td>\n",
       "      <td>0</td>\n",
       "      <td>0</td>\n",
       "      <td>0</td>\n",
       "      <td>0</td>\n",
       "      <td>0</td>\n",
       "      <td>0</td>\n",
       "      <td>0</td>\n",
       "    </tr>\n",
       "    <tr>\n",
       "      <th>2</th>\n",
       "      <td>0</td>\n",
       "      <td>1</td>\n",
       "      <td>0</td>\n",
       "      <td>0</td>\n",
       "      <td>0</td>\n",
       "      <td>0</td>\n",
       "      <td>0</td>\n",
       "      <td>0</td>\n",
       "      <td>0</td>\n",
       "      <td>0</td>\n",
       "    </tr>\n",
       "    <tr>\n",
       "      <th>3</th>\n",
       "      <td>0</td>\n",
       "      <td>0</td>\n",
       "      <td>0</td>\n",
       "      <td>0</td>\n",
       "      <td>1</td>\n",
       "      <td>0</td>\n",
       "      <td>0</td>\n",
       "      <td>0</td>\n",
       "      <td>0</td>\n",
       "      <td>0</td>\n",
       "    </tr>\n",
       "    <tr>\n",
       "      <th>4</th>\n",
       "      <td>1</td>\n",
       "      <td>0</td>\n",
       "      <td>0</td>\n",
       "      <td>0</td>\n",
       "      <td>0</td>\n",
       "      <td>0</td>\n",
       "      <td>0</td>\n",
       "      <td>0</td>\n",
       "      <td>0</td>\n",
       "      <td>0</td>\n",
       "    </tr>\n",
       "  </tbody>\n",
       "</table>\n",
       "</div>"
      ],
      "text/plain": [
       "   Num_0  Num_1  Num_2  Num_3  Num_4  Num_5  Num_6  Num_7  Num_8  Num_9\n",
       "0      0      1      0      0      0      0      0      0      0      0\n",
       "1      1      0      0      0      0      0      0      0      0      0\n",
       "2      0      1      0      0      0      0      0      0      0      0\n",
       "3      0      0      0      0      1      0      0      0      0      0\n",
       "4      1      0      0      0      0      0      0      0      0      0"
      ]
     },
     "execution_count": 12,
     "metadata": {},
     "output_type": "execute_result"
    }
   ],
   "source": [
    "y_train.head()"
   ]
  },
  {
   "cell_type": "code",
   "execution_count": 13,
   "id": "c80cc264",
   "metadata": {
    "_cell_guid": "ff399335-f35f-4add-be4a-9baacb9009af",
    "_uuid": "faba2524-b013-4577-995b-6939fdfa6b66",
    "collapsed": false,
    "execution": {
     "iopub.execute_input": "2022-08-01T05:41:00.902116Z",
     "iopub.status.busy": "2022-08-01T05:41:00.901828Z",
     "iopub.status.idle": "2022-08-01T05:41:03.070315Z",
     "shell.execute_reply": "2022-08-01T05:41:03.069292Z"
    },
    "jupyter": {
     "outputs_hidden": false
    },
    "papermill": {
     "duration": 2.192705,
     "end_time": "2022-08-01T05:41:03.072693",
     "exception": false,
     "start_time": "2022-08-01T05:41:00.879988",
     "status": "completed"
    },
    "tags": []
   },
   "outputs": [
    {
     "data": {
      "text/html": [
       "<div>\n",
       "<style scoped>\n",
       "    .dataframe tbody tr th:only-of-type {\n",
       "        vertical-align: middle;\n",
       "    }\n",
       "\n",
       "    .dataframe tbody tr th {\n",
       "        vertical-align: top;\n",
       "    }\n",
       "\n",
       "    .dataframe thead th {\n",
       "        text-align: right;\n",
       "    }\n",
       "</style>\n",
       "<table border=\"1\" class=\"dataframe\">\n",
       "  <thead>\n",
       "    <tr style=\"text-align: right;\">\n",
       "      <th></th>\n",
       "      <th>pixel0</th>\n",
       "      <th>pixel1</th>\n",
       "      <th>pixel2</th>\n",
       "      <th>pixel3</th>\n",
       "      <th>pixel4</th>\n",
       "      <th>pixel5</th>\n",
       "      <th>pixel6</th>\n",
       "      <th>pixel7</th>\n",
       "      <th>pixel8</th>\n",
       "      <th>pixel9</th>\n",
       "      <th>...</th>\n",
       "      <th>pixel774</th>\n",
       "      <th>pixel775</th>\n",
       "      <th>pixel776</th>\n",
       "      <th>pixel777</th>\n",
       "      <th>pixel778</th>\n",
       "      <th>pixel779</th>\n",
       "      <th>pixel780</th>\n",
       "      <th>pixel781</th>\n",
       "      <th>pixel782</th>\n",
       "      <th>pixel783</th>\n",
       "    </tr>\n",
       "  </thead>\n",
       "  <tbody>\n",
       "    <tr>\n",
       "      <th>count</th>\n",
       "      <td>42000.0</td>\n",
       "      <td>42000.0</td>\n",
       "      <td>42000.0</td>\n",
       "      <td>42000.0</td>\n",
       "      <td>42000.0</td>\n",
       "      <td>42000.0</td>\n",
       "      <td>42000.0</td>\n",
       "      <td>42000.0</td>\n",
       "      <td>42000.0</td>\n",
       "      <td>42000.0</td>\n",
       "      <td>...</td>\n",
       "      <td>42000.000000</td>\n",
       "      <td>42000.000000</td>\n",
       "      <td>42000.000000</td>\n",
       "      <td>42000.00000</td>\n",
       "      <td>42000.000000</td>\n",
       "      <td>42000.000000</td>\n",
       "      <td>42000.0</td>\n",
       "      <td>42000.0</td>\n",
       "      <td>42000.0</td>\n",
       "      <td>42000.0</td>\n",
       "    </tr>\n",
       "    <tr>\n",
       "      <th>mean</th>\n",
       "      <td>0.0</td>\n",
       "      <td>0.0</td>\n",
       "      <td>0.0</td>\n",
       "      <td>0.0</td>\n",
       "      <td>0.0</td>\n",
       "      <td>0.0</td>\n",
       "      <td>0.0</td>\n",
       "      <td>0.0</td>\n",
       "      <td>0.0</td>\n",
       "      <td>0.0</td>\n",
       "      <td>...</td>\n",
       "      <td>0.219286</td>\n",
       "      <td>0.117095</td>\n",
       "      <td>0.059024</td>\n",
       "      <td>0.02019</td>\n",
       "      <td>0.017238</td>\n",
       "      <td>0.002857</td>\n",
       "      <td>0.0</td>\n",
       "      <td>0.0</td>\n",
       "      <td>0.0</td>\n",
       "      <td>0.0</td>\n",
       "    </tr>\n",
       "    <tr>\n",
       "      <th>std</th>\n",
       "      <td>0.0</td>\n",
       "      <td>0.0</td>\n",
       "      <td>0.0</td>\n",
       "      <td>0.0</td>\n",
       "      <td>0.0</td>\n",
       "      <td>0.0</td>\n",
       "      <td>0.0</td>\n",
       "      <td>0.0</td>\n",
       "      <td>0.0</td>\n",
       "      <td>0.0</td>\n",
       "      <td>...</td>\n",
       "      <td>6.312890</td>\n",
       "      <td>4.633819</td>\n",
       "      <td>3.274488</td>\n",
       "      <td>1.75987</td>\n",
       "      <td>1.894498</td>\n",
       "      <td>0.414264</td>\n",
       "      <td>0.0</td>\n",
       "      <td>0.0</td>\n",
       "      <td>0.0</td>\n",
       "      <td>0.0</td>\n",
       "    </tr>\n",
       "    <tr>\n",
       "      <th>min</th>\n",
       "      <td>0.0</td>\n",
       "      <td>0.0</td>\n",
       "      <td>0.0</td>\n",
       "      <td>0.0</td>\n",
       "      <td>0.0</td>\n",
       "      <td>0.0</td>\n",
       "      <td>0.0</td>\n",
       "      <td>0.0</td>\n",
       "      <td>0.0</td>\n",
       "      <td>0.0</td>\n",
       "      <td>...</td>\n",
       "      <td>0.000000</td>\n",
       "      <td>0.000000</td>\n",
       "      <td>0.000000</td>\n",
       "      <td>0.00000</td>\n",
       "      <td>0.000000</td>\n",
       "      <td>0.000000</td>\n",
       "      <td>0.0</td>\n",
       "      <td>0.0</td>\n",
       "      <td>0.0</td>\n",
       "      <td>0.0</td>\n",
       "    </tr>\n",
       "    <tr>\n",
       "      <th>25%</th>\n",
       "      <td>0.0</td>\n",
       "      <td>0.0</td>\n",
       "      <td>0.0</td>\n",
       "      <td>0.0</td>\n",
       "      <td>0.0</td>\n",
       "      <td>0.0</td>\n",
       "      <td>0.0</td>\n",
       "      <td>0.0</td>\n",
       "      <td>0.0</td>\n",
       "      <td>0.0</td>\n",
       "      <td>...</td>\n",
       "      <td>0.000000</td>\n",
       "      <td>0.000000</td>\n",
       "      <td>0.000000</td>\n",
       "      <td>0.00000</td>\n",
       "      <td>0.000000</td>\n",
       "      <td>0.000000</td>\n",
       "      <td>0.0</td>\n",
       "      <td>0.0</td>\n",
       "      <td>0.0</td>\n",
       "      <td>0.0</td>\n",
       "    </tr>\n",
       "    <tr>\n",
       "      <th>50%</th>\n",
       "      <td>0.0</td>\n",
       "      <td>0.0</td>\n",
       "      <td>0.0</td>\n",
       "      <td>0.0</td>\n",
       "      <td>0.0</td>\n",
       "      <td>0.0</td>\n",
       "      <td>0.0</td>\n",
       "      <td>0.0</td>\n",
       "      <td>0.0</td>\n",
       "      <td>0.0</td>\n",
       "      <td>...</td>\n",
       "      <td>0.000000</td>\n",
       "      <td>0.000000</td>\n",
       "      <td>0.000000</td>\n",
       "      <td>0.00000</td>\n",
       "      <td>0.000000</td>\n",
       "      <td>0.000000</td>\n",
       "      <td>0.0</td>\n",
       "      <td>0.0</td>\n",
       "      <td>0.0</td>\n",
       "      <td>0.0</td>\n",
       "    </tr>\n",
       "    <tr>\n",
       "      <th>75%</th>\n",
       "      <td>0.0</td>\n",
       "      <td>0.0</td>\n",
       "      <td>0.0</td>\n",
       "      <td>0.0</td>\n",
       "      <td>0.0</td>\n",
       "      <td>0.0</td>\n",
       "      <td>0.0</td>\n",
       "      <td>0.0</td>\n",
       "      <td>0.0</td>\n",
       "      <td>0.0</td>\n",
       "      <td>...</td>\n",
       "      <td>0.000000</td>\n",
       "      <td>0.000000</td>\n",
       "      <td>0.000000</td>\n",
       "      <td>0.00000</td>\n",
       "      <td>0.000000</td>\n",
       "      <td>0.000000</td>\n",
       "      <td>0.0</td>\n",
       "      <td>0.0</td>\n",
       "      <td>0.0</td>\n",
       "      <td>0.0</td>\n",
       "    </tr>\n",
       "    <tr>\n",
       "      <th>max</th>\n",
       "      <td>0.0</td>\n",
       "      <td>0.0</td>\n",
       "      <td>0.0</td>\n",
       "      <td>0.0</td>\n",
       "      <td>0.0</td>\n",
       "      <td>0.0</td>\n",
       "      <td>0.0</td>\n",
       "      <td>0.0</td>\n",
       "      <td>0.0</td>\n",
       "      <td>0.0</td>\n",
       "      <td>...</td>\n",
       "      <td>254.000000</td>\n",
       "      <td>254.000000</td>\n",
       "      <td>253.000000</td>\n",
       "      <td>253.00000</td>\n",
       "      <td>254.000000</td>\n",
       "      <td>62.000000</td>\n",
       "      <td>0.0</td>\n",
       "      <td>0.0</td>\n",
       "      <td>0.0</td>\n",
       "      <td>0.0</td>\n",
       "    </tr>\n",
       "  </tbody>\n",
       "</table>\n",
       "<p>8 rows × 784 columns</p>\n",
       "</div>"
      ],
      "text/plain": [
       "        pixel0   pixel1   pixel2   pixel3   pixel4   pixel5   pixel6   pixel7  \\\n",
       "count  42000.0  42000.0  42000.0  42000.0  42000.0  42000.0  42000.0  42000.0   \n",
       "mean       0.0      0.0      0.0      0.0      0.0      0.0      0.0      0.0   \n",
       "std        0.0      0.0      0.0      0.0      0.0      0.0      0.0      0.0   \n",
       "min        0.0      0.0      0.0      0.0      0.0      0.0      0.0      0.0   \n",
       "25%        0.0      0.0      0.0      0.0      0.0      0.0      0.0      0.0   \n",
       "50%        0.0      0.0      0.0      0.0      0.0      0.0      0.0      0.0   \n",
       "75%        0.0      0.0      0.0      0.0      0.0      0.0      0.0      0.0   \n",
       "max        0.0      0.0      0.0      0.0      0.0      0.0      0.0      0.0   \n",
       "\n",
       "        pixel8   pixel9  ...      pixel774      pixel775      pixel776  \\\n",
       "count  42000.0  42000.0  ...  42000.000000  42000.000000  42000.000000   \n",
       "mean       0.0      0.0  ...      0.219286      0.117095      0.059024   \n",
       "std        0.0      0.0  ...      6.312890      4.633819      3.274488   \n",
       "min        0.0      0.0  ...      0.000000      0.000000      0.000000   \n",
       "25%        0.0      0.0  ...      0.000000      0.000000      0.000000   \n",
       "50%        0.0      0.0  ...      0.000000      0.000000      0.000000   \n",
       "75%        0.0      0.0  ...      0.000000      0.000000      0.000000   \n",
       "max        0.0      0.0  ...    254.000000    254.000000    253.000000   \n",
       "\n",
       "          pixel777      pixel778      pixel779  pixel780  pixel781  pixel782  \\\n",
       "count  42000.00000  42000.000000  42000.000000   42000.0   42000.0   42000.0   \n",
       "mean       0.02019      0.017238      0.002857       0.0       0.0       0.0   \n",
       "std        1.75987      1.894498      0.414264       0.0       0.0       0.0   \n",
       "min        0.00000      0.000000      0.000000       0.0       0.0       0.0   \n",
       "25%        0.00000      0.000000      0.000000       0.0       0.0       0.0   \n",
       "50%        0.00000      0.000000      0.000000       0.0       0.0       0.0   \n",
       "75%        0.00000      0.000000      0.000000       0.0       0.0       0.0   \n",
       "max      253.00000    254.000000     62.000000       0.0       0.0       0.0   \n",
       "\n",
       "       pixel783  \n",
       "count   42000.0  \n",
       "mean        0.0  \n",
       "std         0.0  \n",
       "min         0.0  \n",
       "25%         0.0  \n",
       "50%         0.0  \n",
       "75%         0.0  \n",
       "max         0.0  \n",
       "\n",
       "[8 rows x 784 columns]"
      ]
     },
     "execution_count": 13,
     "metadata": {},
     "output_type": "execute_result"
    }
   ],
   "source": [
    "#28×28一共784个像素，其中的数值表示亮度[0,255]\n",
    "X_train.describe()"
   ]
  },
  {
   "cell_type": "code",
   "execution_count": 14,
   "id": "199f261f",
   "metadata": {
    "_cell_guid": "b5100e89-d0c0-474e-ba58-786cb0139ac7",
    "_uuid": "3352ab2a-55dc-425b-a9f5-8f6474e4b209",
    "collapsed": false,
    "execution": {
     "iopub.execute_input": "2022-08-01T05:41:03.113810Z",
     "iopub.status.busy": "2022-08-01T05:41:03.113509Z",
     "iopub.status.idle": "2022-08-01T05:41:03.117511Z",
     "shell.execute_reply": "2022-08-01T05:41:03.116598Z"
    },
    "jupyter": {
     "outputs_hidden": false
    },
    "papermill": {
     "duration": 0.026672,
     "end_time": "2022-08-01T05:41:03.119623",
     "exception": false,
     "start_time": "2022-08-01T05:41:03.092951",
     "status": "completed"
    },
    "tags": []
   },
   "outputs": [],
   "source": [
    "#from sklearn.preprocessing import Normalizer"
   ]
  },
  {
   "cell_type": "code",
   "execution_count": 15,
   "id": "f6b64bc4",
   "metadata": {
    "_cell_guid": "aa9190d0-7ce1-4d3e-9ba6-05f5a25d7780",
    "_uuid": "46465602-7741-4ed7-b393-54fb0c8bad14",
    "collapsed": false,
    "execution": {
     "iopub.execute_input": "2022-08-01T05:41:03.160742Z",
     "iopub.status.busy": "2022-08-01T05:41:03.160469Z",
     "iopub.status.idle": "2022-08-01T05:41:03.270112Z",
     "shell.execute_reply": "2022-08-01T05:41:03.269047Z"
    },
    "jupyter": {
     "outputs_hidden": false
    },
    "papermill": {
     "duration": 0.13321,
     "end_time": "2022-08-01T05:41:03.272664",
     "exception": false,
     "start_time": "2022-08-01T05:41:03.139454",
     "status": "completed"
    },
    "tags": []
   },
   "outputs": [],
   "source": [
    "X_train = X_train/255"
   ]
  },
  {
   "cell_type": "code",
   "execution_count": 16,
   "id": "f202d190",
   "metadata": {
    "_cell_guid": "d4db89dc-9ee2-4c72-9437-95de968c587f",
    "_uuid": "7974cc06-e828-4297-8c32-2a9fc6d5a781",
    "collapsed": false,
    "execution": {
     "iopub.execute_input": "2022-08-01T05:41:03.315211Z",
     "iopub.status.busy": "2022-08-01T05:41:03.314864Z",
     "iopub.status.idle": "2022-08-01T05:41:03.347138Z",
     "shell.execute_reply": "2022-08-01T05:41:03.346208Z"
    },
    "jupyter": {
     "outputs_hidden": false
    },
    "papermill": {
     "duration": 0.055527,
     "end_time": "2022-08-01T05:41:03.349306",
     "exception": false,
     "start_time": "2022-08-01T05:41:03.293779",
     "status": "completed"
    },
    "tags": []
   },
   "outputs": [
    {
     "data": {
      "text/html": [
       "<div>\n",
       "<style scoped>\n",
       "    .dataframe tbody tr th:only-of-type {\n",
       "        vertical-align: middle;\n",
       "    }\n",
       "\n",
       "    .dataframe tbody tr th {\n",
       "        vertical-align: top;\n",
       "    }\n",
       "\n",
       "    .dataframe thead th {\n",
       "        text-align: right;\n",
       "    }\n",
       "</style>\n",
       "<table border=\"1\" class=\"dataframe\">\n",
       "  <thead>\n",
       "    <tr style=\"text-align: right;\">\n",
       "      <th></th>\n",
       "      <th>pixel0</th>\n",
       "      <th>pixel1</th>\n",
       "      <th>pixel2</th>\n",
       "      <th>pixel3</th>\n",
       "      <th>pixel4</th>\n",
       "      <th>pixel5</th>\n",
       "      <th>pixel6</th>\n",
       "      <th>pixel7</th>\n",
       "      <th>pixel8</th>\n",
       "      <th>pixel9</th>\n",
       "      <th>...</th>\n",
       "      <th>pixel774</th>\n",
       "      <th>pixel775</th>\n",
       "      <th>pixel776</th>\n",
       "      <th>pixel777</th>\n",
       "      <th>pixel778</th>\n",
       "      <th>pixel779</th>\n",
       "      <th>pixel780</th>\n",
       "      <th>pixel781</th>\n",
       "      <th>pixel782</th>\n",
       "      <th>pixel783</th>\n",
       "    </tr>\n",
       "  </thead>\n",
       "  <tbody>\n",
       "    <tr>\n",
       "      <th>0</th>\n",
       "      <td>0.0</td>\n",
       "      <td>0.0</td>\n",
       "      <td>0.0</td>\n",
       "      <td>0.0</td>\n",
       "      <td>0.0</td>\n",
       "      <td>0.0</td>\n",
       "      <td>0.0</td>\n",
       "      <td>0.0</td>\n",
       "      <td>0.0</td>\n",
       "      <td>0.0</td>\n",
       "      <td>...</td>\n",
       "      <td>0.0</td>\n",
       "      <td>0.0</td>\n",
       "      <td>0.0</td>\n",
       "      <td>0.0</td>\n",
       "      <td>0.0</td>\n",
       "      <td>0.0</td>\n",
       "      <td>0.0</td>\n",
       "      <td>0.0</td>\n",
       "      <td>0.0</td>\n",
       "      <td>0.0</td>\n",
       "    </tr>\n",
       "    <tr>\n",
       "      <th>1</th>\n",
       "      <td>0.0</td>\n",
       "      <td>0.0</td>\n",
       "      <td>0.0</td>\n",
       "      <td>0.0</td>\n",
       "      <td>0.0</td>\n",
       "      <td>0.0</td>\n",
       "      <td>0.0</td>\n",
       "      <td>0.0</td>\n",
       "      <td>0.0</td>\n",
       "      <td>0.0</td>\n",
       "      <td>...</td>\n",
       "      <td>0.0</td>\n",
       "      <td>0.0</td>\n",
       "      <td>0.0</td>\n",
       "      <td>0.0</td>\n",
       "      <td>0.0</td>\n",
       "      <td>0.0</td>\n",
       "      <td>0.0</td>\n",
       "      <td>0.0</td>\n",
       "      <td>0.0</td>\n",
       "      <td>0.0</td>\n",
       "    </tr>\n",
       "    <tr>\n",
       "      <th>2</th>\n",
       "      <td>0.0</td>\n",
       "      <td>0.0</td>\n",
       "      <td>0.0</td>\n",
       "      <td>0.0</td>\n",
       "      <td>0.0</td>\n",
       "      <td>0.0</td>\n",
       "      <td>0.0</td>\n",
       "      <td>0.0</td>\n",
       "      <td>0.0</td>\n",
       "      <td>0.0</td>\n",
       "      <td>...</td>\n",
       "      <td>0.0</td>\n",
       "      <td>0.0</td>\n",
       "      <td>0.0</td>\n",
       "      <td>0.0</td>\n",
       "      <td>0.0</td>\n",
       "      <td>0.0</td>\n",
       "      <td>0.0</td>\n",
       "      <td>0.0</td>\n",
       "      <td>0.0</td>\n",
       "      <td>0.0</td>\n",
       "    </tr>\n",
       "    <tr>\n",
       "      <th>3</th>\n",
       "      <td>0.0</td>\n",
       "      <td>0.0</td>\n",
       "      <td>0.0</td>\n",
       "      <td>0.0</td>\n",
       "      <td>0.0</td>\n",
       "      <td>0.0</td>\n",
       "      <td>0.0</td>\n",
       "      <td>0.0</td>\n",
       "      <td>0.0</td>\n",
       "      <td>0.0</td>\n",
       "      <td>...</td>\n",
       "      <td>0.0</td>\n",
       "      <td>0.0</td>\n",
       "      <td>0.0</td>\n",
       "      <td>0.0</td>\n",
       "      <td>0.0</td>\n",
       "      <td>0.0</td>\n",
       "      <td>0.0</td>\n",
       "      <td>0.0</td>\n",
       "      <td>0.0</td>\n",
       "      <td>0.0</td>\n",
       "    </tr>\n",
       "    <tr>\n",
       "      <th>4</th>\n",
       "      <td>0.0</td>\n",
       "      <td>0.0</td>\n",
       "      <td>0.0</td>\n",
       "      <td>0.0</td>\n",
       "      <td>0.0</td>\n",
       "      <td>0.0</td>\n",
       "      <td>0.0</td>\n",
       "      <td>0.0</td>\n",
       "      <td>0.0</td>\n",
       "      <td>0.0</td>\n",
       "      <td>...</td>\n",
       "      <td>0.0</td>\n",
       "      <td>0.0</td>\n",
       "      <td>0.0</td>\n",
       "      <td>0.0</td>\n",
       "      <td>0.0</td>\n",
       "      <td>0.0</td>\n",
       "      <td>0.0</td>\n",
       "      <td>0.0</td>\n",
       "      <td>0.0</td>\n",
       "      <td>0.0</td>\n",
       "    </tr>\n",
       "  </tbody>\n",
       "</table>\n",
       "<p>5 rows × 784 columns</p>\n",
       "</div>"
      ],
      "text/plain": [
       "   pixel0  pixel1  pixel2  pixel3  pixel4  pixel5  pixel6  pixel7  pixel8  \\\n",
       "0     0.0     0.0     0.0     0.0     0.0     0.0     0.0     0.0     0.0   \n",
       "1     0.0     0.0     0.0     0.0     0.0     0.0     0.0     0.0     0.0   \n",
       "2     0.0     0.0     0.0     0.0     0.0     0.0     0.0     0.0     0.0   \n",
       "3     0.0     0.0     0.0     0.0     0.0     0.0     0.0     0.0     0.0   \n",
       "4     0.0     0.0     0.0     0.0     0.0     0.0     0.0     0.0     0.0   \n",
       "\n",
       "   pixel9  ...  pixel774  pixel775  pixel776  pixel777  pixel778  pixel779  \\\n",
       "0     0.0  ...       0.0       0.0       0.0       0.0       0.0       0.0   \n",
       "1     0.0  ...       0.0       0.0       0.0       0.0       0.0       0.0   \n",
       "2     0.0  ...       0.0       0.0       0.0       0.0       0.0       0.0   \n",
       "3     0.0  ...       0.0       0.0       0.0       0.0       0.0       0.0   \n",
       "4     0.0  ...       0.0       0.0       0.0       0.0       0.0       0.0   \n",
       "\n",
       "   pixel780  pixel781  pixel782  pixel783  \n",
       "0       0.0       0.0       0.0       0.0  \n",
       "1       0.0       0.0       0.0       0.0  \n",
       "2       0.0       0.0       0.0       0.0  \n",
       "3       0.0       0.0       0.0       0.0  \n",
       "4       0.0       0.0       0.0       0.0  \n",
       "\n",
       "[5 rows x 784 columns]"
      ]
     },
     "execution_count": 16,
     "metadata": {},
     "output_type": "execute_result"
    }
   ],
   "source": [
    "X_train.head()"
   ]
  },
  {
   "cell_type": "code",
   "execution_count": 17,
   "id": "aa7dca7f",
   "metadata": {
    "_cell_guid": "43091772-ca04-4964-8a8f-d5db36c7e793",
    "_uuid": "19608c23-c7c8-4585-b0db-e7675c823c25",
    "collapsed": false,
    "execution": {
     "iopub.execute_input": "2022-08-01T05:41:03.390825Z",
     "iopub.status.busy": "2022-08-01T05:41:03.390025Z",
     "iopub.status.idle": "2022-08-01T05:41:06.114935Z",
     "shell.execute_reply": "2022-08-01T05:41:06.113831Z"
    },
    "jupyter": {
     "outputs_hidden": false
    },
    "papermill": {
     "duration": 2.748208,
     "end_time": "2022-08-01T05:41:06.117716",
     "exception": false,
     "start_time": "2022-08-01T05:41:03.369508",
     "status": "completed"
    },
    "tags": []
   },
   "outputs": [
    {
     "data": {
      "text/html": [
       "<div>\n",
       "<style scoped>\n",
       "    .dataframe tbody tr th:only-of-type {\n",
       "        vertical-align: middle;\n",
       "    }\n",
       "\n",
       "    .dataframe tbody tr th {\n",
       "        vertical-align: top;\n",
       "    }\n",
       "\n",
       "    .dataframe thead th {\n",
       "        text-align: right;\n",
       "    }\n",
       "</style>\n",
       "<table border=\"1\" class=\"dataframe\">\n",
       "  <thead>\n",
       "    <tr style=\"text-align: right;\">\n",
       "      <th></th>\n",
       "      <th>pixel0</th>\n",
       "      <th>pixel1</th>\n",
       "      <th>pixel2</th>\n",
       "      <th>pixel3</th>\n",
       "      <th>pixel4</th>\n",
       "      <th>pixel5</th>\n",
       "      <th>pixel6</th>\n",
       "      <th>pixel7</th>\n",
       "      <th>pixel8</th>\n",
       "      <th>pixel9</th>\n",
       "      <th>...</th>\n",
       "      <th>pixel774</th>\n",
       "      <th>pixel775</th>\n",
       "      <th>pixel776</th>\n",
       "      <th>pixel777</th>\n",
       "      <th>pixel778</th>\n",
       "      <th>pixel779</th>\n",
       "      <th>pixel780</th>\n",
       "      <th>pixel781</th>\n",
       "      <th>pixel782</th>\n",
       "      <th>pixel783</th>\n",
       "    </tr>\n",
       "  </thead>\n",
       "  <tbody>\n",
       "    <tr>\n",
       "      <th>count</th>\n",
       "      <td>42000.0</td>\n",
       "      <td>42000.0</td>\n",
       "      <td>42000.0</td>\n",
       "      <td>42000.0</td>\n",
       "      <td>42000.0</td>\n",
       "      <td>42000.0</td>\n",
       "      <td>42000.0</td>\n",
       "      <td>42000.0</td>\n",
       "      <td>42000.0</td>\n",
       "      <td>42000.0</td>\n",
       "      <td>...</td>\n",
       "      <td>42000.000000</td>\n",
       "      <td>42000.000000</td>\n",
       "      <td>42000.000000</td>\n",
       "      <td>42000.000000</td>\n",
       "      <td>42000.000000</td>\n",
       "      <td>42000.000000</td>\n",
       "      <td>42000.0</td>\n",
       "      <td>42000.0</td>\n",
       "      <td>42000.0</td>\n",
       "      <td>42000.0</td>\n",
       "    </tr>\n",
       "    <tr>\n",
       "      <th>mean</th>\n",
       "      <td>0.0</td>\n",
       "      <td>0.0</td>\n",
       "      <td>0.0</td>\n",
       "      <td>0.0</td>\n",
       "      <td>0.0</td>\n",
       "      <td>0.0</td>\n",
       "      <td>0.0</td>\n",
       "      <td>0.0</td>\n",
       "      <td>0.0</td>\n",
       "      <td>0.0</td>\n",
       "      <td>...</td>\n",
       "      <td>0.000860</td>\n",
       "      <td>0.000459</td>\n",
       "      <td>0.000231</td>\n",
       "      <td>0.000079</td>\n",
       "      <td>0.000068</td>\n",
       "      <td>0.000011</td>\n",
       "      <td>0.0</td>\n",
       "      <td>0.0</td>\n",
       "      <td>0.0</td>\n",
       "      <td>0.0</td>\n",
       "    </tr>\n",
       "    <tr>\n",
       "      <th>std</th>\n",
       "      <td>0.0</td>\n",
       "      <td>0.0</td>\n",
       "      <td>0.0</td>\n",
       "      <td>0.0</td>\n",
       "      <td>0.0</td>\n",
       "      <td>0.0</td>\n",
       "      <td>0.0</td>\n",
       "      <td>0.0</td>\n",
       "      <td>0.0</td>\n",
       "      <td>0.0</td>\n",
       "      <td>...</td>\n",
       "      <td>0.024756</td>\n",
       "      <td>0.018172</td>\n",
       "      <td>0.012841</td>\n",
       "      <td>0.006901</td>\n",
       "      <td>0.007429</td>\n",
       "      <td>0.001625</td>\n",
       "      <td>0.0</td>\n",
       "      <td>0.0</td>\n",
       "      <td>0.0</td>\n",
       "      <td>0.0</td>\n",
       "    </tr>\n",
       "    <tr>\n",
       "      <th>min</th>\n",
       "      <td>0.0</td>\n",
       "      <td>0.0</td>\n",
       "      <td>0.0</td>\n",
       "      <td>0.0</td>\n",
       "      <td>0.0</td>\n",
       "      <td>0.0</td>\n",
       "      <td>0.0</td>\n",
       "      <td>0.0</td>\n",
       "      <td>0.0</td>\n",
       "      <td>0.0</td>\n",
       "      <td>...</td>\n",
       "      <td>0.000000</td>\n",
       "      <td>0.000000</td>\n",
       "      <td>0.000000</td>\n",
       "      <td>0.000000</td>\n",
       "      <td>0.000000</td>\n",
       "      <td>0.000000</td>\n",
       "      <td>0.0</td>\n",
       "      <td>0.0</td>\n",
       "      <td>0.0</td>\n",
       "      <td>0.0</td>\n",
       "    </tr>\n",
       "    <tr>\n",
       "      <th>25%</th>\n",
       "      <td>0.0</td>\n",
       "      <td>0.0</td>\n",
       "      <td>0.0</td>\n",
       "      <td>0.0</td>\n",
       "      <td>0.0</td>\n",
       "      <td>0.0</td>\n",
       "      <td>0.0</td>\n",
       "      <td>0.0</td>\n",
       "      <td>0.0</td>\n",
       "      <td>0.0</td>\n",
       "      <td>...</td>\n",
       "      <td>0.000000</td>\n",
       "      <td>0.000000</td>\n",
       "      <td>0.000000</td>\n",
       "      <td>0.000000</td>\n",
       "      <td>0.000000</td>\n",
       "      <td>0.000000</td>\n",
       "      <td>0.0</td>\n",
       "      <td>0.0</td>\n",
       "      <td>0.0</td>\n",
       "      <td>0.0</td>\n",
       "    </tr>\n",
       "    <tr>\n",
       "      <th>50%</th>\n",
       "      <td>0.0</td>\n",
       "      <td>0.0</td>\n",
       "      <td>0.0</td>\n",
       "      <td>0.0</td>\n",
       "      <td>0.0</td>\n",
       "      <td>0.0</td>\n",
       "      <td>0.0</td>\n",
       "      <td>0.0</td>\n",
       "      <td>0.0</td>\n",
       "      <td>0.0</td>\n",
       "      <td>...</td>\n",
       "      <td>0.000000</td>\n",
       "      <td>0.000000</td>\n",
       "      <td>0.000000</td>\n",
       "      <td>0.000000</td>\n",
       "      <td>0.000000</td>\n",
       "      <td>0.000000</td>\n",
       "      <td>0.0</td>\n",
       "      <td>0.0</td>\n",
       "      <td>0.0</td>\n",
       "      <td>0.0</td>\n",
       "    </tr>\n",
       "    <tr>\n",
       "      <th>75%</th>\n",
       "      <td>0.0</td>\n",
       "      <td>0.0</td>\n",
       "      <td>0.0</td>\n",
       "      <td>0.0</td>\n",
       "      <td>0.0</td>\n",
       "      <td>0.0</td>\n",
       "      <td>0.0</td>\n",
       "      <td>0.0</td>\n",
       "      <td>0.0</td>\n",
       "      <td>0.0</td>\n",
       "      <td>...</td>\n",
       "      <td>0.000000</td>\n",
       "      <td>0.000000</td>\n",
       "      <td>0.000000</td>\n",
       "      <td>0.000000</td>\n",
       "      <td>0.000000</td>\n",
       "      <td>0.000000</td>\n",
       "      <td>0.0</td>\n",
       "      <td>0.0</td>\n",
       "      <td>0.0</td>\n",
       "      <td>0.0</td>\n",
       "    </tr>\n",
       "    <tr>\n",
       "      <th>max</th>\n",
       "      <td>0.0</td>\n",
       "      <td>0.0</td>\n",
       "      <td>0.0</td>\n",
       "      <td>0.0</td>\n",
       "      <td>0.0</td>\n",
       "      <td>0.0</td>\n",
       "      <td>0.0</td>\n",
       "      <td>0.0</td>\n",
       "      <td>0.0</td>\n",
       "      <td>0.0</td>\n",
       "      <td>...</td>\n",
       "      <td>0.996078</td>\n",
       "      <td>0.996078</td>\n",
       "      <td>0.992157</td>\n",
       "      <td>0.992157</td>\n",
       "      <td>0.996078</td>\n",
       "      <td>0.243137</td>\n",
       "      <td>0.0</td>\n",
       "      <td>0.0</td>\n",
       "      <td>0.0</td>\n",
       "      <td>0.0</td>\n",
       "    </tr>\n",
       "  </tbody>\n",
       "</table>\n",
       "<p>8 rows × 784 columns</p>\n",
       "</div>"
      ],
      "text/plain": [
       "        pixel0   pixel1   pixel2   pixel3   pixel4   pixel5   pixel6   pixel7  \\\n",
       "count  42000.0  42000.0  42000.0  42000.0  42000.0  42000.0  42000.0  42000.0   \n",
       "mean       0.0      0.0      0.0      0.0      0.0      0.0      0.0      0.0   \n",
       "std        0.0      0.0      0.0      0.0      0.0      0.0      0.0      0.0   \n",
       "min        0.0      0.0      0.0      0.0      0.0      0.0      0.0      0.0   \n",
       "25%        0.0      0.0      0.0      0.0      0.0      0.0      0.0      0.0   \n",
       "50%        0.0      0.0      0.0      0.0      0.0      0.0      0.0      0.0   \n",
       "75%        0.0      0.0      0.0      0.0      0.0      0.0      0.0      0.0   \n",
       "max        0.0      0.0      0.0      0.0      0.0      0.0      0.0      0.0   \n",
       "\n",
       "        pixel8   pixel9  ...      pixel774      pixel775      pixel776  \\\n",
       "count  42000.0  42000.0  ...  42000.000000  42000.000000  42000.000000   \n",
       "mean       0.0      0.0  ...      0.000860      0.000459      0.000231   \n",
       "std        0.0      0.0  ...      0.024756      0.018172      0.012841   \n",
       "min        0.0      0.0  ...      0.000000      0.000000      0.000000   \n",
       "25%        0.0      0.0  ...      0.000000      0.000000      0.000000   \n",
       "50%        0.0      0.0  ...      0.000000      0.000000      0.000000   \n",
       "75%        0.0      0.0  ...      0.000000      0.000000      0.000000   \n",
       "max        0.0      0.0  ...      0.996078      0.996078      0.992157   \n",
       "\n",
       "           pixel777      pixel778      pixel779  pixel780  pixel781  pixel782  \\\n",
       "count  42000.000000  42000.000000  42000.000000   42000.0   42000.0   42000.0   \n",
       "mean       0.000079      0.000068      0.000011       0.0       0.0       0.0   \n",
       "std        0.006901      0.007429      0.001625       0.0       0.0       0.0   \n",
       "min        0.000000      0.000000      0.000000       0.0       0.0       0.0   \n",
       "25%        0.000000      0.000000      0.000000       0.0       0.0       0.0   \n",
       "50%        0.000000      0.000000      0.000000       0.0       0.0       0.0   \n",
       "75%        0.000000      0.000000      0.000000       0.0       0.0       0.0   \n",
       "max        0.992157      0.996078      0.243137       0.0       0.0       0.0   \n",
       "\n",
       "       pixel783  \n",
       "count   42000.0  \n",
       "mean        0.0  \n",
       "std         0.0  \n",
       "min         0.0  \n",
       "25%         0.0  \n",
       "50%         0.0  \n",
       "75%         0.0  \n",
       "max         0.0  \n",
       "\n",
       "[8 rows x 784 columns]"
      ]
     },
     "execution_count": 17,
     "metadata": {},
     "output_type": "execute_result"
    }
   ],
   "source": [
    "X_train.describe()"
   ]
  },
  {
   "cell_type": "code",
   "execution_count": 18,
   "id": "fd369b3f",
   "metadata": {
    "_cell_guid": "a1bfc58a-ef1e-414f-b62b-102048cc6a94",
    "_uuid": "2d56125c-6f26-4438-9cae-495cd1bf7294",
    "collapsed": false,
    "execution": {
     "iopub.execute_input": "2022-08-01T05:41:06.162051Z",
     "iopub.status.busy": "2022-08-01T05:41:06.160219Z",
     "iopub.status.idle": "2022-08-01T05:41:06.166518Z",
     "shell.execute_reply": "2022-08-01T05:41:06.165650Z"
    },
    "jupyter": {
     "outputs_hidden": false
    },
    "papermill": {
     "duration": 0.029996,
     "end_time": "2022-08-01T05:41:06.168831",
     "exception": false,
     "start_time": "2022-08-01T05:41:06.138835",
     "status": "completed"
    },
    "tags": []
   },
   "outputs": [],
   "source": [
    "X_train = X_train.values.reshape(-1,28,28,1)"
   ]
  },
  {
   "cell_type": "code",
   "execution_count": 19,
   "id": "55a7d902",
   "metadata": {
    "_cell_guid": "766cfee7-acc0-4582-9e1e-0cb76b4c739c",
    "_uuid": "7f680671-f722-422f-aec5-8c68ba32d7ac",
    "collapsed": false,
    "execution": {
     "iopub.execute_input": "2022-08-01T05:41:06.211682Z",
     "iopub.status.busy": "2022-08-01T05:41:06.210160Z",
     "iopub.status.idle": "2022-08-01T05:41:06.221338Z",
     "shell.execute_reply": "2022-08-01T05:41:06.220416Z"
    },
    "jupyter": {
     "outputs_hidden": false
    },
    "papermill": {
     "duration": 0.034592,
     "end_time": "2022-08-01T05:41:06.223473",
     "exception": false,
     "start_time": "2022-08-01T05:41:06.188881",
     "status": "completed"
    },
    "tags": []
   },
   "outputs": [
    {
     "data": {
      "text/plain": [
       "array([[[[0.],\n",
       "         [0.],\n",
       "         [0.],\n",
       "         ...,\n",
       "         [0.],\n",
       "         [0.],\n",
       "         [0.]],\n",
       "\n",
       "        [[0.],\n",
       "         [0.],\n",
       "         [0.],\n",
       "         ...,\n",
       "         [0.],\n",
       "         [0.],\n",
       "         [0.]],\n",
       "\n",
       "        [[0.],\n",
       "         [0.],\n",
       "         [0.],\n",
       "         ...,\n",
       "         [0.],\n",
       "         [0.],\n",
       "         [0.]],\n",
       "\n",
       "        ...,\n",
       "\n",
       "        [[0.],\n",
       "         [0.],\n",
       "         [0.],\n",
       "         ...,\n",
       "         [0.],\n",
       "         [0.],\n",
       "         [0.]],\n",
       "\n",
       "        [[0.],\n",
       "         [0.],\n",
       "         [0.],\n",
       "         ...,\n",
       "         [0.],\n",
       "         [0.],\n",
       "         [0.]],\n",
       "\n",
       "        [[0.],\n",
       "         [0.],\n",
       "         [0.],\n",
       "         ...,\n",
       "         [0.],\n",
       "         [0.],\n",
       "         [0.]]],\n",
       "\n",
       "\n",
       "       [[[0.],\n",
       "         [0.],\n",
       "         [0.],\n",
       "         ...,\n",
       "         [0.],\n",
       "         [0.],\n",
       "         [0.]],\n",
       "\n",
       "        [[0.],\n",
       "         [0.],\n",
       "         [0.],\n",
       "         ...,\n",
       "         [0.],\n",
       "         [0.],\n",
       "         [0.]],\n",
       "\n",
       "        [[0.],\n",
       "         [0.],\n",
       "         [0.],\n",
       "         ...,\n",
       "         [0.],\n",
       "         [0.],\n",
       "         [0.]],\n",
       "\n",
       "        ...,\n",
       "\n",
       "        [[0.],\n",
       "         [0.],\n",
       "         [0.],\n",
       "         ...,\n",
       "         [0.],\n",
       "         [0.],\n",
       "         [0.]],\n",
       "\n",
       "        [[0.],\n",
       "         [0.],\n",
       "         [0.],\n",
       "         ...,\n",
       "         [0.],\n",
       "         [0.],\n",
       "         [0.]],\n",
       "\n",
       "        [[0.],\n",
       "         [0.],\n",
       "         [0.],\n",
       "         ...,\n",
       "         [0.],\n",
       "         [0.],\n",
       "         [0.]]],\n",
       "\n",
       "\n",
       "       [[[0.],\n",
       "         [0.],\n",
       "         [0.],\n",
       "         ...,\n",
       "         [0.],\n",
       "         [0.],\n",
       "         [0.]],\n",
       "\n",
       "        [[0.],\n",
       "         [0.],\n",
       "         [0.],\n",
       "         ...,\n",
       "         [0.],\n",
       "         [0.],\n",
       "         [0.]],\n",
       "\n",
       "        [[0.],\n",
       "         [0.],\n",
       "         [0.],\n",
       "         ...,\n",
       "         [0.],\n",
       "         [0.],\n",
       "         [0.]],\n",
       "\n",
       "        ...,\n",
       "\n",
       "        [[0.],\n",
       "         [0.],\n",
       "         [0.],\n",
       "         ...,\n",
       "         [0.],\n",
       "         [0.],\n",
       "         [0.]],\n",
       "\n",
       "        [[0.],\n",
       "         [0.],\n",
       "         [0.],\n",
       "         ...,\n",
       "         [0.],\n",
       "         [0.],\n",
       "         [0.]],\n",
       "\n",
       "        [[0.],\n",
       "         [0.],\n",
       "         [0.],\n",
       "         ...,\n",
       "         [0.],\n",
       "         [0.],\n",
       "         [0.]]],\n",
       "\n",
       "\n",
       "       ...,\n",
       "\n",
       "\n",
       "       [[[0.],\n",
       "         [0.],\n",
       "         [0.],\n",
       "         ...,\n",
       "         [0.],\n",
       "         [0.],\n",
       "         [0.]],\n",
       "\n",
       "        [[0.],\n",
       "         [0.],\n",
       "         [0.],\n",
       "         ...,\n",
       "         [0.],\n",
       "         [0.],\n",
       "         [0.]],\n",
       "\n",
       "        [[0.],\n",
       "         [0.],\n",
       "         [0.],\n",
       "         ...,\n",
       "         [0.],\n",
       "         [0.],\n",
       "         [0.]],\n",
       "\n",
       "        ...,\n",
       "\n",
       "        [[0.],\n",
       "         [0.],\n",
       "         [0.],\n",
       "         ...,\n",
       "         [0.],\n",
       "         [0.],\n",
       "         [0.]],\n",
       "\n",
       "        [[0.],\n",
       "         [0.],\n",
       "         [0.],\n",
       "         ...,\n",
       "         [0.],\n",
       "         [0.],\n",
       "         [0.]],\n",
       "\n",
       "        [[0.],\n",
       "         [0.],\n",
       "         [0.],\n",
       "         ...,\n",
       "         [0.],\n",
       "         [0.],\n",
       "         [0.]]],\n",
       "\n",
       "\n",
       "       [[[0.],\n",
       "         [0.],\n",
       "         [0.],\n",
       "         ...,\n",
       "         [0.],\n",
       "         [0.],\n",
       "         [0.]],\n",
       "\n",
       "        [[0.],\n",
       "         [0.],\n",
       "         [0.],\n",
       "         ...,\n",
       "         [0.],\n",
       "         [0.],\n",
       "         [0.]],\n",
       "\n",
       "        [[0.],\n",
       "         [0.],\n",
       "         [0.],\n",
       "         ...,\n",
       "         [0.],\n",
       "         [0.],\n",
       "         [0.]],\n",
       "\n",
       "        ...,\n",
       "\n",
       "        [[0.],\n",
       "         [0.],\n",
       "         [0.],\n",
       "         ...,\n",
       "         [0.],\n",
       "         [0.],\n",
       "         [0.]],\n",
       "\n",
       "        [[0.],\n",
       "         [0.],\n",
       "         [0.],\n",
       "         ...,\n",
       "         [0.],\n",
       "         [0.],\n",
       "         [0.]],\n",
       "\n",
       "        [[0.],\n",
       "         [0.],\n",
       "         [0.],\n",
       "         ...,\n",
       "         [0.],\n",
       "         [0.],\n",
       "         [0.]]],\n",
       "\n",
       "\n",
       "       [[[0.],\n",
       "         [0.],\n",
       "         [0.],\n",
       "         ...,\n",
       "         [0.],\n",
       "         [0.],\n",
       "         [0.]],\n",
       "\n",
       "        [[0.],\n",
       "         [0.],\n",
       "         [0.],\n",
       "         ...,\n",
       "         [0.],\n",
       "         [0.],\n",
       "         [0.]],\n",
       "\n",
       "        [[0.],\n",
       "         [0.],\n",
       "         [0.],\n",
       "         ...,\n",
       "         [0.],\n",
       "         [0.],\n",
       "         [0.]],\n",
       "\n",
       "        ...,\n",
       "\n",
       "        [[0.],\n",
       "         [0.],\n",
       "         [0.],\n",
       "         ...,\n",
       "         [0.],\n",
       "         [0.],\n",
       "         [0.]],\n",
       "\n",
       "        [[0.],\n",
       "         [0.],\n",
       "         [0.],\n",
       "         ...,\n",
       "         [0.],\n",
       "         [0.],\n",
       "         [0.]],\n",
       "\n",
       "        [[0.],\n",
       "         [0.],\n",
       "         [0.],\n",
       "         ...,\n",
       "         [0.],\n",
       "         [0.],\n",
       "         [0.]]]])"
      ]
     },
     "execution_count": 19,
     "metadata": {},
     "output_type": "execute_result"
    }
   ],
   "source": [
    "X_train"
   ]
  },
  {
   "cell_type": "code",
   "execution_count": 20,
   "id": "c357c9d7",
   "metadata": {
    "_cell_guid": "0c4a2c1c-8c73-45dd-bb01-3b90e7bc4318",
    "_uuid": "2f11c159-3d23-4aad-96fe-8dcb8994203d",
    "collapsed": false,
    "execution": {
     "iopub.execute_input": "2022-08-01T05:41:06.265651Z",
     "iopub.status.busy": "2022-08-01T05:41:06.265360Z",
     "iopub.status.idle": "2022-08-01T05:41:06.311302Z",
     "shell.execute_reply": "2022-08-01T05:41:06.310283Z"
    },
    "jupyter": {
     "outputs_hidden": false
    },
    "papermill": {
     "duration": 0.069704,
     "end_time": "2022-08-01T05:41:06.313567",
     "exception": false,
     "start_time": "2022-08-01T05:41:06.243863",
     "status": "completed"
    },
    "tags": []
   },
   "outputs": [
    {
     "name": "stdout",
     "output_type": "stream",
     "text": [
      "<class 'pandas.core.frame.DataFrame'>\n",
      "RangeIndex: 28000 entries, 0 to 27999\n",
      "Columns: 784 entries, pixel0 to pixel783\n",
      "dtypes: int64(784)\n",
      "memory usage: 167.5 MB\n"
     ]
    }
   ],
   "source": [
    "test.info()"
   ]
  },
  {
   "cell_type": "code",
   "execution_count": 21,
   "id": "65572057",
   "metadata": {
    "_cell_guid": "06e76ad0-4fc1-4e03-bbf9-a73b819d475b",
    "_uuid": "8b96b86b-85a1-4539-9e6b-b5313916145c",
    "collapsed": false,
    "execution": {
     "iopub.execute_input": "2022-08-01T05:41:06.356655Z",
     "iopub.status.busy": "2022-08-01T05:41:06.356358Z",
     "iopub.status.idle": "2022-08-01T05:41:06.390005Z",
     "shell.execute_reply": "2022-08-01T05:41:06.389002Z"
    },
    "jupyter": {
     "outputs_hidden": false
    },
    "papermill": {
     "duration": 0.057245,
     "end_time": "2022-08-01T05:41:06.392254",
     "exception": false,
     "start_time": "2022-08-01T05:41:06.335009",
     "status": "completed"
    },
    "tags": []
   },
   "outputs": [
    {
     "data": {
      "text/plain": [
       "pixel0      0\n",
       "pixel1      0\n",
       "pixel2      0\n",
       "pixel3      0\n",
       "pixel4      0\n",
       "           ..\n",
       "pixel779    0\n",
       "pixel780    0\n",
       "pixel781    0\n",
       "pixel782    0\n",
       "pixel783    0\n",
       "Length: 784, dtype: int64"
      ]
     },
     "execution_count": 21,
     "metadata": {},
     "output_type": "execute_result"
    }
   ],
   "source": [
    "test.isnull().sum()"
   ]
  },
  {
   "cell_type": "code",
   "execution_count": 22,
   "id": "c1cc6fbe",
   "metadata": {
    "_cell_guid": "69dca6b4-52dd-4bb0-810c-7248300f7cb0",
    "_uuid": "d9ae8e50-8160-4274-b31c-30e4a3fae85f",
    "collapsed": false,
    "execution": {
     "iopub.execute_input": "2022-08-01T05:41:06.435122Z",
     "iopub.status.busy": "2022-08-01T05:41:06.434850Z",
     "iopub.status.idle": "2022-08-01T05:41:06.465499Z",
     "shell.execute_reply": "2022-08-01T05:41:06.464515Z"
    },
    "jupyter": {
     "outputs_hidden": false
    },
    "papermill": {
     "duration": 0.054315,
     "end_time": "2022-08-01T05:41:06.467541",
     "exception": false,
     "start_time": "2022-08-01T05:41:06.413226",
     "status": "completed"
    },
    "tags": []
   },
   "outputs": [
    {
     "data": {
      "text/plain": [
       "0"
      ]
     },
     "execution_count": 22,
     "metadata": {},
     "output_type": "execute_result"
    }
   ],
   "source": [
    "sum(test.isnull().sum())"
   ]
  },
  {
   "cell_type": "code",
   "execution_count": 23,
   "id": "209d7649",
   "metadata": {
    "_cell_guid": "940e8e15-22dc-4c98-add0-7e8ef842abc6",
    "_uuid": "a9fa984c-a034-4770-afb9-cb5119ca226a",
    "collapsed": false,
    "execution": {
     "iopub.execute_input": "2022-08-01T05:41:06.511309Z",
     "iopub.status.busy": "2022-08-01T05:41:06.510466Z",
     "iopub.status.idle": "2022-08-01T05:41:06.584760Z",
     "shell.execute_reply": "2022-08-01T05:41:06.583739Z"
    },
    "jupyter": {
     "outputs_hidden": false
    },
    "papermill": {
     "duration": 0.098569,
     "end_time": "2022-08-01T05:41:06.587386",
     "exception": false,
     "start_time": "2022-08-01T05:41:06.488817",
     "status": "completed"
    },
    "tags": []
   },
   "outputs": [],
   "source": [
    "test = test/255"
   ]
  },
  {
   "cell_type": "code",
   "execution_count": 24,
   "id": "aa5c673c",
   "metadata": {
    "_cell_guid": "c9bcc4bd-199a-4d1c-b06c-c1ebd8222f76",
    "_uuid": "3b6112eb-db1b-4dfd-8861-057b34b89ca8",
    "collapsed": false,
    "execution": {
     "iopub.execute_input": "2022-08-01T05:41:06.631281Z",
     "iopub.status.busy": "2022-08-01T05:41:06.630346Z",
     "iopub.status.idle": "2022-08-01T05:41:06.662059Z",
     "shell.execute_reply": "2022-08-01T05:41:06.661153Z"
    },
    "jupyter": {
     "outputs_hidden": false
    },
    "papermill": {
     "duration": 0.055534,
     "end_time": "2022-08-01T05:41:06.664078",
     "exception": false,
     "start_time": "2022-08-01T05:41:06.608544",
     "status": "completed"
    },
    "tags": []
   },
   "outputs": [
    {
     "data": {
      "text/html": [
       "<div>\n",
       "<style scoped>\n",
       "    .dataframe tbody tr th:only-of-type {\n",
       "        vertical-align: middle;\n",
       "    }\n",
       "\n",
       "    .dataframe tbody tr th {\n",
       "        vertical-align: top;\n",
       "    }\n",
       "\n",
       "    .dataframe thead th {\n",
       "        text-align: right;\n",
       "    }\n",
       "</style>\n",
       "<table border=\"1\" class=\"dataframe\">\n",
       "  <thead>\n",
       "    <tr style=\"text-align: right;\">\n",
       "      <th></th>\n",
       "      <th>pixel0</th>\n",
       "      <th>pixel1</th>\n",
       "      <th>pixel2</th>\n",
       "      <th>pixel3</th>\n",
       "      <th>pixel4</th>\n",
       "      <th>pixel5</th>\n",
       "      <th>pixel6</th>\n",
       "      <th>pixel7</th>\n",
       "      <th>pixel8</th>\n",
       "      <th>pixel9</th>\n",
       "      <th>...</th>\n",
       "      <th>pixel774</th>\n",
       "      <th>pixel775</th>\n",
       "      <th>pixel776</th>\n",
       "      <th>pixel777</th>\n",
       "      <th>pixel778</th>\n",
       "      <th>pixel779</th>\n",
       "      <th>pixel780</th>\n",
       "      <th>pixel781</th>\n",
       "      <th>pixel782</th>\n",
       "      <th>pixel783</th>\n",
       "    </tr>\n",
       "  </thead>\n",
       "  <tbody>\n",
       "    <tr>\n",
       "      <th>0</th>\n",
       "      <td>0.0</td>\n",
       "      <td>0.0</td>\n",
       "      <td>0.0</td>\n",
       "      <td>0.0</td>\n",
       "      <td>0.0</td>\n",
       "      <td>0.0</td>\n",
       "      <td>0.0</td>\n",
       "      <td>0.0</td>\n",
       "      <td>0.0</td>\n",
       "      <td>0.0</td>\n",
       "      <td>...</td>\n",
       "      <td>0.0</td>\n",
       "      <td>0.0</td>\n",
       "      <td>0.0</td>\n",
       "      <td>0.0</td>\n",
       "      <td>0.0</td>\n",
       "      <td>0.0</td>\n",
       "      <td>0.0</td>\n",
       "      <td>0.0</td>\n",
       "      <td>0.0</td>\n",
       "      <td>0.0</td>\n",
       "    </tr>\n",
       "    <tr>\n",
       "      <th>1</th>\n",
       "      <td>0.0</td>\n",
       "      <td>0.0</td>\n",
       "      <td>0.0</td>\n",
       "      <td>0.0</td>\n",
       "      <td>0.0</td>\n",
       "      <td>0.0</td>\n",
       "      <td>0.0</td>\n",
       "      <td>0.0</td>\n",
       "      <td>0.0</td>\n",
       "      <td>0.0</td>\n",
       "      <td>...</td>\n",
       "      <td>0.0</td>\n",
       "      <td>0.0</td>\n",
       "      <td>0.0</td>\n",
       "      <td>0.0</td>\n",
       "      <td>0.0</td>\n",
       "      <td>0.0</td>\n",
       "      <td>0.0</td>\n",
       "      <td>0.0</td>\n",
       "      <td>0.0</td>\n",
       "      <td>0.0</td>\n",
       "    </tr>\n",
       "    <tr>\n",
       "      <th>2</th>\n",
       "      <td>0.0</td>\n",
       "      <td>0.0</td>\n",
       "      <td>0.0</td>\n",
       "      <td>0.0</td>\n",
       "      <td>0.0</td>\n",
       "      <td>0.0</td>\n",
       "      <td>0.0</td>\n",
       "      <td>0.0</td>\n",
       "      <td>0.0</td>\n",
       "      <td>0.0</td>\n",
       "      <td>...</td>\n",
       "      <td>0.0</td>\n",
       "      <td>0.0</td>\n",
       "      <td>0.0</td>\n",
       "      <td>0.0</td>\n",
       "      <td>0.0</td>\n",
       "      <td>0.0</td>\n",
       "      <td>0.0</td>\n",
       "      <td>0.0</td>\n",
       "      <td>0.0</td>\n",
       "      <td>0.0</td>\n",
       "    </tr>\n",
       "    <tr>\n",
       "      <th>3</th>\n",
       "      <td>0.0</td>\n",
       "      <td>0.0</td>\n",
       "      <td>0.0</td>\n",
       "      <td>0.0</td>\n",
       "      <td>0.0</td>\n",
       "      <td>0.0</td>\n",
       "      <td>0.0</td>\n",
       "      <td>0.0</td>\n",
       "      <td>0.0</td>\n",
       "      <td>0.0</td>\n",
       "      <td>...</td>\n",
       "      <td>0.0</td>\n",
       "      <td>0.0</td>\n",
       "      <td>0.0</td>\n",
       "      <td>0.0</td>\n",
       "      <td>0.0</td>\n",
       "      <td>0.0</td>\n",
       "      <td>0.0</td>\n",
       "      <td>0.0</td>\n",
       "      <td>0.0</td>\n",
       "      <td>0.0</td>\n",
       "    </tr>\n",
       "    <tr>\n",
       "      <th>4</th>\n",
       "      <td>0.0</td>\n",
       "      <td>0.0</td>\n",
       "      <td>0.0</td>\n",
       "      <td>0.0</td>\n",
       "      <td>0.0</td>\n",
       "      <td>0.0</td>\n",
       "      <td>0.0</td>\n",
       "      <td>0.0</td>\n",
       "      <td>0.0</td>\n",
       "      <td>0.0</td>\n",
       "      <td>...</td>\n",
       "      <td>0.0</td>\n",
       "      <td>0.0</td>\n",
       "      <td>0.0</td>\n",
       "      <td>0.0</td>\n",
       "      <td>0.0</td>\n",
       "      <td>0.0</td>\n",
       "      <td>0.0</td>\n",
       "      <td>0.0</td>\n",
       "      <td>0.0</td>\n",
       "      <td>0.0</td>\n",
       "    </tr>\n",
       "  </tbody>\n",
       "</table>\n",
       "<p>5 rows × 784 columns</p>\n",
       "</div>"
      ],
      "text/plain": [
       "   pixel0  pixel1  pixel2  pixel3  pixel4  pixel5  pixel6  pixel7  pixel8  \\\n",
       "0     0.0     0.0     0.0     0.0     0.0     0.0     0.0     0.0     0.0   \n",
       "1     0.0     0.0     0.0     0.0     0.0     0.0     0.0     0.0     0.0   \n",
       "2     0.0     0.0     0.0     0.0     0.0     0.0     0.0     0.0     0.0   \n",
       "3     0.0     0.0     0.0     0.0     0.0     0.0     0.0     0.0     0.0   \n",
       "4     0.0     0.0     0.0     0.0     0.0     0.0     0.0     0.0     0.0   \n",
       "\n",
       "   pixel9  ...  pixel774  pixel775  pixel776  pixel777  pixel778  pixel779  \\\n",
       "0     0.0  ...       0.0       0.0       0.0       0.0       0.0       0.0   \n",
       "1     0.0  ...       0.0       0.0       0.0       0.0       0.0       0.0   \n",
       "2     0.0  ...       0.0       0.0       0.0       0.0       0.0       0.0   \n",
       "3     0.0  ...       0.0       0.0       0.0       0.0       0.0       0.0   \n",
       "4     0.0  ...       0.0       0.0       0.0       0.0       0.0       0.0   \n",
       "\n",
       "   pixel780  pixel781  pixel782  pixel783  \n",
       "0       0.0       0.0       0.0       0.0  \n",
       "1       0.0       0.0       0.0       0.0  \n",
       "2       0.0       0.0       0.0       0.0  \n",
       "3       0.0       0.0       0.0       0.0  \n",
       "4       0.0       0.0       0.0       0.0  \n",
       "\n",
       "[5 rows x 784 columns]"
      ]
     },
     "execution_count": 24,
     "metadata": {},
     "output_type": "execute_result"
    }
   ],
   "source": [
    "test.head()"
   ]
  },
  {
   "cell_type": "code",
   "execution_count": 25,
   "id": "9f5ba621",
   "metadata": {
    "_cell_guid": "5f536453-2386-4428-8541-8ae7fd1ad7e8",
    "_uuid": "6127134c-fd23-42ff-9bc6-2650ed127641",
    "collapsed": false,
    "execution": {
     "iopub.execute_input": "2022-08-01T05:41:06.708242Z",
     "iopub.status.busy": "2022-08-01T05:41:06.707942Z",
     "iopub.status.idle": "2022-08-01T05:41:08.857277Z",
     "shell.execute_reply": "2022-08-01T05:41:08.856341Z"
    },
    "jupyter": {
     "outputs_hidden": false
    },
    "papermill": {
     "duration": 2.17409,
     "end_time": "2022-08-01T05:41:08.859937",
     "exception": false,
     "start_time": "2022-08-01T05:41:06.685847",
     "status": "completed"
    },
    "tags": []
   },
   "outputs": [
    {
     "data": {
      "text/html": [
       "<div>\n",
       "<style scoped>\n",
       "    .dataframe tbody tr th:only-of-type {\n",
       "        vertical-align: middle;\n",
       "    }\n",
       "\n",
       "    .dataframe tbody tr th {\n",
       "        vertical-align: top;\n",
       "    }\n",
       "\n",
       "    .dataframe thead th {\n",
       "        text-align: right;\n",
       "    }\n",
       "</style>\n",
       "<table border=\"1\" class=\"dataframe\">\n",
       "  <thead>\n",
       "    <tr style=\"text-align: right;\">\n",
       "      <th></th>\n",
       "      <th>pixel0</th>\n",
       "      <th>pixel1</th>\n",
       "      <th>pixel2</th>\n",
       "      <th>pixel3</th>\n",
       "      <th>pixel4</th>\n",
       "      <th>pixel5</th>\n",
       "      <th>pixel6</th>\n",
       "      <th>pixel7</th>\n",
       "      <th>pixel8</th>\n",
       "      <th>pixel9</th>\n",
       "      <th>...</th>\n",
       "      <th>pixel774</th>\n",
       "      <th>pixel775</th>\n",
       "      <th>pixel776</th>\n",
       "      <th>pixel777</th>\n",
       "      <th>pixel778</th>\n",
       "      <th>pixel779</th>\n",
       "      <th>pixel780</th>\n",
       "      <th>pixel781</th>\n",
       "      <th>pixel782</th>\n",
       "      <th>pixel783</th>\n",
       "    </tr>\n",
       "  </thead>\n",
       "  <tbody>\n",
       "    <tr>\n",
       "      <th>count</th>\n",
       "      <td>28000.0</td>\n",
       "      <td>28000.0</td>\n",
       "      <td>28000.0</td>\n",
       "      <td>28000.0</td>\n",
       "      <td>28000.0</td>\n",
       "      <td>28000.0</td>\n",
       "      <td>28000.0</td>\n",
       "      <td>28000.0</td>\n",
       "      <td>28000.0</td>\n",
       "      <td>28000.0</td>\n",
       "      <td>...</td>\n",
       "      <td>28000.000000</td>\n",
       "      <td>28000.000000</td>\n",
       "      <td>28000.000000</td>\n",
       "      <td>28000.000000</td>\n",
       "      <td>28000.000000</td>\n",
       "      <td>28000.0</td>\n",
       "      <td>28000.0</td>\n",
       "      <td>28000.0</td>\n",
       "      <td>28000.0</td>\n",
       "      <td>28000.0</td>\n",
       "    </tr>\n",
       "    <tr>\n",
       "      <th>mean</th>\n",
       "      <td>0.0</td>\n",
       "      <td>0.0</td>\n",
       "      <td>0.0</td>\n",
       "      <td>0.0</td>\n",
       "      <td>0.0</td>\n",
       "      <td>0.0</td>\n",
       "      <td>0.0</td>\n",
       "      <td>0.0</td>\n",
       "      <td>0.0</td>\n",
       "      <td>0.0</td>\n",
       "      <td>...</td>\n",
       "      <td>0.000646</td>\n",
       "      <td>0.000287</td>\n",
       "      <td>0.000110</td>\n",
       "      <td>0.000044</td>\n",
       "      <td>0.000026</td>\n",
       "      <td>0.0</td>\n",
       "      <td>0.0</td>\n",
       "      <td>0.0</td>\n",
       "      <td>0.0</td>\n",
       "      <td>0.0</td>\n",
       "    </tr>\n",
       "    <tr>\n",
       "      <th>std</th>\n",
       "      <td>0.0</td>\n",
       "      <td>0.0</td>\n",
       "      <td>0.0</td>\n",
       "      <td>0.0</td>\n",
       "      <td>0.0</td>\n",
       "      <td>0.0</td>\n",
       "      <td>0.0</td>\n",
       "      <td>0.0</td>\n",
       "      <td>0.0</td>\n",
       "      <td>0.0</td>\n",
       "      <td>...</td>\n",
       "      <td>0.021464</td>\n",
       "      <td>0.014184</td>\n",
       "      <td>0.007112</td>\n",
       "      <td>0.004726</td>\n",
       "      <td>0.003167</td>\n",
       "      <td>0.0</td>\n",
       "      <td>0.0</td>\n",
       "      <td>0.0</td>\n",
       "      <td>0.0</td>\n",
       "      <td>0.0</td>\n",
       "    </tr>\n",
       "    <tr>\n",
       "      <th>min</th>\n",
       "      <td>0.0</td>\n",
       "      <td>0.0</td>\n",
       "      <td>0.0</td>\n",
       "      <td>0.0</td>\n",
       "      <td>0.0</td>\n",
       "      <td>0.0</td>\n",
       "      <td>0.0</td>\n",
       "      <td>0.0</td>\n",
       "      <td>0.0</td>\n",
       "      <td>0.0</td>\n",
       "      <td>...</td>\n",
       "      <td>0.000000</td>\n",
       "      <td>0.000000</td>\n",
       "      <td>0.000000</td>\n",
       "      <td>0.000000</td>\n",
       "      <td>0.000000</td>\n",
       "      <td>0.0</td>\n",
       "      <td>0.0</td>\n",
       "      <td>0.0</td>\n",
       "      <td>0.0</td>\n",
       "      <td>0.0</td>\n",
       "    </tr>\n",
       "    <tr>\n",
       "      <th>25%</th>\n",
       "      <td>0.0</td>\n",
       "      <td>0.0</td>\n",
       "      <td>0.0</td>\n",
       "      <td>0.0</td>\n",
       "      <td>0.0</td>\n",
       "      <td>0.0</td>\n",
       "      <td>0.0</td>\n",
       "      <td>0.0</td>\n",
       "      <td>0.0</td>\n",
       "      <td>0.0</td>\n",
       "      <td>...</td>\n",
       "      <td>0.000000</td>\n",
       "      <td>0.000000</td>\n",
       "      <td>0.000000</td>\n",
       "      <td>0.000000</td>\n",
       "      <td>0.000000</td>\n",
       "      <td>0.0</td>\n",
       "      <td>0.0</td>\n",
       "      <td>0.0</td>\n",
       "      <td>0.0</td>\n",
       "      <td>0.0</td>\n",
       "    </tr>\n",
       "    <tr>\n",
       "      <th>50%</th>\n",
       "      <td>0.0</td>\n",
       "      <td>0.0</td>\n",
       "      <td>0.0</td>\n",
       "      <td>0.0</td>\n",
       "      <td>0.0</td>\n",
       "      <td>0.0</td>\n",
       "      <td>0.0</td>\n",
       "      <td>0.0</td>\n",
       "      <td>0.0</td>\n",
       "      <td>0.0</td>\n",
       "      <td>...</td>\n",
       "      <td>0.000000</td>\n",
       "      <td>0.000000</td>\n",
       "      <td>0.000000</td>\n",
       "      <td>0.000000</td>\n",
       "      <td>0.000000</td>\n",
       "      <td>0.0</td>\n",
       "      <td>0.0</td>\n",
       "      <td>0.0</td>\n",
       "      <td>0.0</td>\n",
       "      <td>0.0</td>\n",
       "    </tr>\n",
       "    <tr>\n",
       "      <th>75%</th>\n",
       "      <td>0.0</td>\n",
       "      <td>0.0</td>\n",
       "      <td>0.0</td>\n",
       "      <td>0.0</td>\n",
       "      <td>0.0</td>\n",
       "      <td>0.0</td>\n",
       "      <td>0.0</td>\n",
       "      <td>0.0</td>\n",
       "      <td>0.0</td>\n",
       "      <td>0.0</td>\n",
       "      <td>...</td>\n",
       "      <td>0.000000</td>\n",
       "      <td>0.000000</td>\n",
       "      <td>0.000000</td>\n",
       "      <td>0.000000</td>\n",
       "      <td>0.000000</td>\n",
       "      <td>0.0</td>\n",
       "      <td>0.0</td>\n",
       "      <td>0.0</td>\n",
       "      <td>0.0</td>\n",
       "      <td>0.0</td>\n",
       "    </tr>\n",
       "    <tr>\n",
       "      <th>max</th>\n",
       "      <td>0.0</td>\n",
       "      <td>0.0</td>\n",
       "      <td>0.0</td>\n",
       "      <td>0.0</td>\n",
       "      <td>0.0</td>\n",
       "      <td>0.0</td>\n",
       "      <td>0.0</td>\n",
       "      <td>0.0</td>\n",
       "      <td>0.0</td>\n",
       "      <td>0.0</td>\n",
       "      <td>...</td>\n",
       "      <td>0.992157</td>\n",
       "      <td>0.996078</td>\n",
       "      <td>0.756863</td>\n",
       "      <td>0.733333</td>\n",
       "      <td>0.466667</td>\n",
       "      <td>0.0</td>\n",
       "      <td>0.0</td>\n",
       "      <td>0.0</td>\n",
       "      <td>0.0</td>\n",
       "      <td>0.0</td>\n",
       "    </tr>\n",
       "  </tbody>\n",
       "</table>\n",
       "<p>8 rows × 784 columns</p>\n",
       "</div>"
      ],
      "text/plain": [
       "        pixel0   pixel1   pixel2   pixel3   pixel4   pixel5   pixel6   pixel7  \\\n",
       "count  28000.0  28000.0  28000.0  28000.0  28000.0  28000.0  28000.0  28000.0   \n",
       "mean       0.0      0.0      0.0      0.0      0.0      0.0      0.0      0.0   \n",
       "std        0.0      0.0      0.0      0.0      0.0      0.0      0.0      0.0   \n",
       "min        0.0      0.0      0.0      0.0      0.0      0.0      0.0      0.0   \n",
       "25%        0.0      0.0      0.0      0.0      0.0      0.0      0.0      0.0   \n",
       "50%        0.0      0.0      0.0      0.0      0.0      0.0      0.0      0.0   \n",
       "75%        0.0      0.0      0.0      0.0      0.0      0.0      0.0      0.0   \n",
       "max        0.0      0.0      0.0      0.0      0.0      0.0      0.0      0.0   \n",
       "\n",
       "        pixel8   pixel9  ...      pixel774      pixel775      pixel776  \\\n",
       "count  28000.0  28000.0  ...  28000.000000  28000.000000  28000.000000   \n",
       "mean       0.0      0.0  ...      0.000646      0.000287      0.000110   \n",
       "std        0.0      0.0  ...      0.021464      0.014184      0.007112   \n",
       "min        0.0      0.0  ...      0.000000      0.000000      0.000000   \n",
       "25%        0.0      0.0  ...      0.000000      0.000000      0.000000   \n",
       "50%        0.0      0.0  ...      0.000000      0.000000      0.000000   \n",
       "75%        0.0      0.0  ...      0.000000      0.000000      0.000000   \n",
       "max        0.0      0.0  ...      0.992157      0.996078      0.756863   \n",
       "\n",
       "           pixel777      pixel778  pixel779  pixel780  pixel781  pixel782  \\\n",
       "count  28000.000000  28000.000000   28000.0   28000.0   28000.0   28000.0   \n",
       "mean       0.000044      0.000026       0.0       0.0       0.0       0.0   \n",
       "std        0.004726      0.003167       0.0       0.0       0.0       0.0   \n",
       "min        0.000000      0.000000       0.0       0.0       0.0       0.0   \n",
       "25%        0.000000      0.000000       0.0       0.0       0.0       0.0   \n",
       "50%        0.000000      0.000000       0.0       0.0       0.0       0.0   \n",
       "75%        0.000000      0.000000       0.0       0.0       0.0       0.0   \n",
       "max        0.733333      0.466667       0.0       0.0       0.0       0.0   \n",
       "\n",
       "       pixel783  \n",
       "count   28000.0  \n",
       "mean        0.0  \n",
       "std         0.0  \n",
       "min         0.0  \n",
       "25%         0.0  \n",
       "50%         0.0  \n",
       "75%         0.0  \n",
       "max         0.0  \n",
       "\n",
       "[8 rows x 784 columns]"
      ]
     },
     "execution_count": 25,
     "metadata": {},
     "output_type": "execute_result"
    }
   ],
   "source": [
    "test.describe()"
   ]
  },
  {
   "cell_type": "code",
   "execution_count": 26,
   "id": "b373d576",
   "metadata": {
    "_cell_guid": "e201a24d-4f58-49ed-93ce-f17d585fe4d2",
    "_uuid": "5078e875-6f55-473e-95a4-b113d5512a6f",
    "collapsed": false,
    "execution": {
     "iopub.execute_input": "2022-08-01T05:41:08.907570Z",
     "iopub.status.busy": "2022-08-01T05:41:08.907245Z",
     "iopub.status.idle": "2022-08-01T05:41:08.912058Z",
     "shell.execute_reply": "2022-08-01T05:41:08.911134Z"
    },
    "jupyter": {
     "outputs_hidden": false
    },
    "papermill": {
     "duration": 0.030506,
     "end_time": "2022-08-01T05:41:08.914166",
     "exception": false,
     "start_time": "2022-08-01T05:41:08.883660",
     "status": "completed"
    },
    "tags": []
   },
   "outputs": [],
   "source": [
    "test = test.values.reshape(-1,28,28,1)"
   ]
  },
  {
   "cell_type": "code",
   "execution_count": 27,
   "id": "f57ddef5",
   "metadata": {
    "_cell_guid": "21f85b87-e519-422d-b9ed-e7317dc42430",
    "_uuid": "caefcdd7-1133-4979-84b2-0a71cecb3914",
    "collapsed": false,
    "execution": {
     "iopub.execute_input": "2022-08-01T05:41:08.958732Z",
     "iopub.status.busy": "2022-08-01T05:41:08.958458Z",
     "iopub.status.idle": "2022-08-01T05:41:08.969246Z",
     "shell.execute_reply": "2022-08-01T05:41:08.968277Z"
    },
    "jupyter": {
     "outputs_hidden": false
    },
    "papermill": {
     "duration": 0.035418,
     "end_time": "2022-08-01T05:41:08.971343",
     "exception": false,
     "start_time": "2022-08-01T05:41:08.935925",
     "status": "completed"
    },
    "tags": []
   },
   "outputs": [
    {
     "data": {
      "text/plain": [
       "array([[[[0.],\n",
       "         [0.],\n",
       "         [0.],\n",
       "         ...,\n",
       "         [0.],\n",
       "         [0.],\n",
       "         [0.]],\n",
       "\n",
       "        [[0.],\n",
       "         [0.],\n",
       "         [0.],\n",
       "         ...,\n",
       "         [0.],\n",
       "         [0.],\n",
       "         [0.]],\n",
       "\n",
       "        [[0.],\n",
       "         [0.],\n",
       "         [0.],\n",
       "         ...,\n",
       "         [0.],\n",
       "         [0.],\n",
       "         [0.]],\n",
       "\n",
       "        ...,\n",
       "\n",
       "        [[0.],\n",
       "         [0.],\n",
       "         [0.],\n",
       "         ...,\n",
       "         [0.],\n",
       "         [0.],\n",
       "         [0.]],\n",
       "\n",
       "        [[0.],\n",
       "         [0.],\n",
       "         [0.],\n",
       "         ...,\n",
       "         [0.],\n",
       "         [0.],\n",
       "         [0.]],\n",
       "\n",
       "        [[0.],\n",
       "         [0.],\n",
       "         [0.],\n",
       "         ...,\n",
       "         [0.],\n",
       "         [0.],\n",
       "         [0.]]],\n",
       "\n",
       "\n",
       "       [[[0.],\n",
       "         [0.],\n",
       "         [0.],\n",
       "         ...,\n",
       "         [0.],\n",
       "         [0.],\n",
       "         [0.]],\n",
       "\n",
       "        [[0.],\n",
       "         [0.],\n",
       "         [0.],\n",
       "         ...,\n",
       "         [0.],\n",
       "         [0.],\n",
       "         [0.]],\n",
       "\n",
       "        [[0.],\n",
       "         [0.],\n",
       "         [0.],\n",
       "         ...,\n",
       "         [0.],\n",
       "         [0.],\n",
       "         [0.]],\n",
       "\n",
       "        ...,\n",
       "\n",
       "        [[0.],\n",
       "         [0.],\n",
       "         [0.],\n",
       "         ...,\n",
       "         [0.],\n",
       "         [0.],\n",
       "         [0.]],\n",
       "\n",
       "        [[0.],\n",
       "         [0.],\n",
       "         [0.],\n",
       "         ...,\n",
       "         [0.],\n",
       "         [0.],\n",
       "         [0.]],\n",
       "\n",
       "        [[0.],\n",
       "         [0.],\n",
       "         [0.],\n",
       "         ...,\n",
       "         [0.],\n",
       "         [0.],\n",
       "         [0.]]],\n",
       "\n",
       "\n",
       "       [[[0.],\n",
       "         [0.],\n",
       "         [0.],\n",
       "         ...,\n",
       "         [0.],\n",
       "         [0.],\n",
       "         [0.]],\n",
       "\n",
       "        [[0.],\n",
       "         [0.],\n",
       "         [0.],\n",
       "         ...,\n",
       "         [0.],\n",
       "         [0.],\n",
       "         [0.]],\n",
       "\n",
       "        [[0.],\n",
       "         [0.],\n",
       "         [0.],\n",
       "         ...,\n",
       "         [0.],\n",
       "         [0.],\n",
       "         [0.]],\n",
       "\n",
       "        ...,\n",
       "\n",
       "        [[0.],\n",
       "         [0.],\n",
       "         [0.],\n",
       "         ...,\n",
       "         [0.],\n",
       "         [0.],\n",
       "         [0.]],\n",
       "\n",
       "        [[0.],\n",
       "         [0.],\n",
       "         [0.],\n",
       "         ...,\n",
       "         [0.],\n",
       "         [0.],\n",
       "         [0.]],\n",
       "\n",
       "        [[0.],\n",
       "         [0.],\n",
       "         [0.],\n",
       "         ...,\n",
       "         [0.],\n",
       "         [0.],\n",
       "         [0.]]],\n",
       "\n",
       "\n",
       "       ...,\n",
       "\n",
       "\n",
       "       [[[0.],\n",
       "         [0.],\n",
       "         [0.],\n",
       "         ...,\n",
       "         [0.],\n",
       "         [0.],\n",
       "         [0.]],\n",
       "\n",
       "        [[0.],\n",
       "         [0.],\n",
       "         [0.],\n",
       "         ...,\n",
       "         [0.],\n",
       "         [0.],\n",
       "         [0.]],\n",
       "\n",
       "        [[0.],\n",
       "         [0.],\n",
       "         [0.],\n",
       "         ...,\n",
       "         [0.],\n",
       "         [0.],\n",
       "         [0.]],\n",
       "\n",
       "        ...,\n",
       "\n",
       "        [[0.],\n",
       "         [0.],\n",
       "         [0.],\n",
       "         ...,\n",
       "         [0.],\n",
       "         [0.],\n",
       "         [0.]],\n",
       "\n",
       "        [[0.],\n",
       "         [0.],\n",
       "         [0.],\n",
       "         ...,\n",
       "         [0.],\n",
       "         [0.],\n",
       "         [0.]],\n",
       "\n",
       "        [[0.],\n",
       "         [0.],\n",
       "         [0.],\n",
       "         ...,\n",
       "         [0.],\n",
       "         [0.],\n",
       "         [0.]]],\n",
       "\n",
       "\n",
       "       [[[0.],\n",
       "         [0.],\n",
       "         [0.],\n",
       "         ...,\n",
       "         [0.],\n",
       "         [0.],\n",
       "         [0.]],\n",
       "\n",
       "        [[0.],\n",
       "         [0.],\n",
       "         [0.],\n",
       "         ...,\n",
       "         [0.],\n",
       "         [0.],\n",
       "         [0.]],\n",
       "\n",
       "        [[0.],\n",
       "         [0.],\n",
       "         [0.],\n",
       "         ...,\n",
       "         [0.],\n",
       "         [0.],\n",
       "         [0.]],\n",
       "\n",
       "        ...,\n",
       "\n",
       "        [[0.],\n",
       "         [0.],\n",
       "         [0.],\n",
       "         ...,\n",
       "         [0.],\n",
       "         [0.],\n",
       "         [0.]],\n",
       "\n",
       "        [[0.],\n",
       "         [0.],\n",
       "         [0.],\n",
       "         ...,\n",
       "         [0.],\n",
       "         [0.],\n",
       "         [0.]],\n",
       "\n",
       "        [[0.],\n",
       "         [0.],\n",
       "         [0.],\n",
       "         ...,\n",
       "         [0.],\n",
       "         [0.],\n",
       "         [0.]]],\n",
       "\n",
       "\n",
       "       [[[0.],\n",
       "         [0.],\n",
       "         [0.],\n",
       "         ...,\n",
       "         [0.],\n",
       "         [0.],\n",
       "         [0.]],\n",
       "\n",
       "        [[0.],\n",
       "         [0.],\n",
       "         [0.],\n",
       "         ...,\n",
       "         [0.],\n",
       "         [0.],\n",
       "         [0.]],\n",
       "\n",
       "        [[0.],\n",
       "         [0.],\n",
       "         [0.],\n",
       "         ...,\n",
       "         [0.],\n",
       "         [0.],\n",
       "         [0.]],\n",
       "\n",
       "        ...,\n",
       "\n",
       "        [[0.],\n",
       "         [0.],\n",
       "         [0.],\n",
       "         ...,\n",
       "         [0.],\n",
       "         [0.],\n",
       "         [0.]],\n",
       "\n",
       "        [[0.],\n",
       "         [0.],\n",
       "         [0.],\n",
       "         ...,\n",
       "         [0.],\n",
       "         [0.],\n",
       "         [0.]],\n",
       "\n",
       "        [[0.],\n",
       "         [0.],\n",
       "         [0.],\n",
       "         ...,\n",
       "         [0.],\n",
       "         [0.],\n",
       "         [0.]]]])"
      ]
     },
     "execution_count": 27,
     "metadata": {},
     "output_type": "execute_result"
    }
   ],
   "source": [
    "test"
   ]
  },
  {
   "cell_type": "code",
   "execution_count": null,
   "id": "0eb49ca4",
   "metadata": {
    "_cell_guid": "a7c031f6-55cc-487b-8047-0075c450c0b4",
    "_uuid": "1433fe41-98a1-4a5d-96f9-c9f969144e61",
    "collapsed": false,
    "jupyter": {
     "outputs_hidden": false
    },
    "papermill": {
     "duration": 0.021631,
     "end_time": "2022-08-01T05:41:09.014923",
     "exception": false,
     "start_time": "2022-08-01T05:41:08.993292",
     "status": "completed"
    },
    "tags": []
   },
   "outputs": [],
   "source": []
  },
  {
   "cell_type": "markdown",
   "id": "8c93861c",
   "metadata": {
    "_cell_guid": "3b4822aa-c365-4457-b8a1-6767d5628548",
    "_uuid": "b97d3195-ac8c-428f-9a94-9123e7ac77ba",
    "papermill": {
     "duration": 0.022043,
     "end_time": "2022-08-01T05:41:09.059175",
     "exception": false,
     "start_time": "2022-08-01T05:41:09.037132",
     "status": "completed"
    },
    "tags": []
   },
   "source": [
    "# CNN Model"
   ]
  },
  {
   "cell_type": "code",
   "execution_count": 28,
   "id": "d9161322",
   "metadata": {
    "_cell_guid": "493221c5-df92-4f02-bf05-1961d4858fc1",
    "_uuid": "ae5687e1-9f6f-477a-bd9c-727a7af55ab3",
    "collapsed": false,
    "execution": {
     "iopub.execute_input": "2022-08-01T05:41:09.105353Z",
     "iopub.status.busy": "2022-08-01T05:41:09.105067Z",
     "iopub.status.idle": "2022-08-01T05:41:13.421056Z",
     "shell.execute_reply": "2022-08-01T05:41:13.420077Z"
    },
    "jupyter": {
     "outputs_hidden": false
    },
    "papermill": {
     "duration": 4.341524,
     "end_time": "2022-08-01T05:41:13.423610",
     "exception": false,
     "start_time": "2022-08-01T05:41:09.082086",
     "status": "completed"
    },
    "tags": []
   },
   "outputs": [],
   "source": [
    "import tensorflow as tf"
   ]
  },
  {
   "cell_type": "code",
   "execution_count": 29,
   "id": "ef16690b",
   "metadata": {
    "_cell_guid": "1ad07bd5-ec8a-4ed9-a82b-1f61450fa4c4",
    "_uuid": "f97ce0cc-eaee-4ca8-a671-9fc09d7402ee",
    "collapsed": false,
    "execution": {
     "iopub.execute_input": "2022-08-01T05:41:13.470670Z",
     "iopub.status.busy": "2022-08-01T05:41:13.470112Z",
     "iopub.status.idle": "2022-08-01T05:41:13.475913Z",
     "shell.execute_reply": "2022-08-01T05:41:13.475017Z"
    },
    "jupyter": {
     "outputs_hidden": false
    },
    "papermill": {
     "duration": 0.031034,
     "end_time": "2022-08-01T05:41:13.477981",
     "exception": false,
     "start_time": "2022-08-01T05:41:13.446947",
     "status": "completed"
    },
    "tags": []
   },
   "outputs": [
    {
     "data": {
      "text/plain": [
       "'2.6.4'"
      ]
     },
     "execution_count": 29,
     "metadata": {},
     "output_type": "execute_result"
    }
   ],
   "source": [
    "tf.__version__"
   ]
  },
  {
   "cell_type": "code",
   "execution_count": 30,
   "id": "93fa33ec",
   "metadata": {
    "_cell_guid": "14e4f66c-8d76-45c6-a986-9329d7b8fe62",
    "_uuid": "e02b8c5c-d6b1-42b3-98b8-337bf6219f81",
    "collapsed": false,
    "execution": {
     "iopub.execute_input": "2022-08-01T05:41:13.524042Z",
     "iopub.status.busy": "2022-08-01T05:41:13.523176Z",
     "iopub.status.idle": "2022-08-01T05:41:17.152279Z",
     "shell.execute_reply": "2022-08-01T05:41:17.151266Z"
    },
    "jupyter": {
     "outputs_hidden": false
    },
    "papermill": {
     "duration": 3.654439,
     "end_time": "2022-08-01T05:41:17.154466",
     "exception": false,
     "start_time": "2022-08-01T05:41:13.500027",
     "status": "completed"
    },
    "tags": []
   },
   "outputs": [
    {
     "name": "stderr",
     "output_type": "stream",
     "text": [
      "2022-08-01 05:41:14.538447: I tensorflow/stream_executor/cuda/cuda_gpu_executor.cc:937] successful NUMA node read from SysFS had negative value (-1), but there must be at least one NUMA node, so returning NUMA node zero\n",
      "2022-08-01 05:41:14.650979: I tensorflow/stream_executor/cuda/cuda_gpu_executor.cc:937] successful NUMA node read from SysFS had negative value (-1), but there must be at least one NUMA node, so returning NUMA node zero\n",
      "2022-08-01 05:41:14.651722: I tensorflow/stream_executor/cuda/cuda_gpu_executor.cc:937] successful NUMA node read from SysFS had negative value (-1), but there must be at least one NUMA node, so returning NUMA node zero\n",
      "2022-08-01 05:41:14.653967: I tensorflow/core/platform/cpu_feature_guard.cc:142] This TensorFlow binary is optimized with oneAPI Deep Neural Network Library (oneDNN) to use the following CPU instructions in performance-critical operations:  AVX2 AVX512F FMA\n",
      "To enable them in other operations, rebuild TensorFlow with the appropriate compiler flags.\n",
      "2022-08-01 05:41:14.654291: I tensorflow/stream_executor/cuda/cuda_gpu_executor.cc:937] successful NUMA node read from SysFS had negative value (-1), but there must be at least one NUMA node, so returning NUMA node zero\n",
      "2022-08-01 05:41:14.655423: I tensorflow/stream_executor/cuda/cuda_gpu_executor.cc:937] successful NUMA node read from SysFS had negative value (-1), but there must be at least one NUMA node, so returning NUMA node zero\n",
      "2022-08-01 05:41:14.656293: I tensorflow/stream_executor/cuda/cuda_gpu_executor.cc:937] successful NUMA node read from SysFS had negative value (-1), but there must be at least one NUMA node, so returning NUMA node zero\n",
      "2022-08-01 05:41:16.814167: I tensorflow/stream_executor/cuda/cuda_gpu_executor.cc:937] successful NUMA node read from SysFS had negative value (-1), but there must be at least one NUMA node, so returning NUMA node zero\n",
      "2022-08-01 05:41:16.815109: I tensorflow/stream_executor/cuda/cuda_gpu_executor.cc:937] successful NUMA node read from SysFS had negative value (-1), but there must be at least one NUMA node, so returning NUMA node zero\n",
      "2022-08-01 05:41:16.815798: I tensorflow/stream_executor/cuda/cuda_gpu_executor.cc:937] successful NUMA node read from SysFS had negative value (-1), but there must be at least one NUMA node, so returning NUMA node zero\n",
      "2022-08-01 05:41:16.816392: I tensorflow/core/common_runtime/gpu/gpu_device.cc:1510] Created device /job:localhost/replica:0/task:0/device:GPU:0 with 15403 MB memory:  -> device: 0, name: Tesla P100-PCIE-16GB, pci bus id: 0000:00:04.0, compute capability: 6.0\n"
     ]
    }
   ],
   "source": [
    "cnn = tf.keras.models.Sequential()"
   ]
  },
  {
   "cell_type": "code",
   "execution_count": 31,
   "id": "e88940e5",
   "metadata": {
    "_cell_guid": "4546cdc8-a279-4b72-ab50-018a08847f79",
    "_uuid": "cae36822-cd78-4502-8a1a-dddd962ca9d2",
    "collapsed": false,
    "execution": {
     "iopub.execute_input": "2022-08-01T05:41:17.202281Z",
     "iopub.status.busy": "2022-08-01T05:41:17.201362Z",
     "iopub.status.idle": "2022-08-01T05:41:17.246419Z",
     "shell.execute_reply": "2022-08-01T05:41:17.245501Z"
    },
    "jupyter": {
     "outputs_hidden": false
    },
    "papermill": {
     "duration": 0.071187,
     "end_time": "2022-08-01T05:41:17.249169",
     "exception": false,
     "start_time": "2022-08-01T05:41:17.177982",
     "status": "completed"
    },
    "tags": []
   },
   "outputs": [],
   "source": [
    "#Convolution\n",
    "cnn.add(tf.keras.layers.Conv2D(filters=256,kernel_size=(5,5),activation='relu',input_shape=(28,28,1)))"
   ]
  },
  {
   "cell_type": "code",
   "execution_count": 32,
   "id": "b0edb62e",
   "metadata": {
    "_cell_guid": "68807bb3-60b1-4604-9937-92b6f51a60b9",
    "_uuid": "1684b552-32f2-4756-8223-cb2ac939837b",
    "collapsed": false,
    "execution": {
     "iopub.execute_input": "2022-08-01T05:41:17.295192Z",
     "iopub.status.busy": "2022-08-01T05:41:17.294908Z",
     "iopub.status.idle": "2022-08-01T05:41:17.304365Z",
     "shell.execute_reply": "2022-08-01T05:41:17.303573Z"
    },
    "jupyter": {
     "outputs_hidden": false
    },
    "papermill": {
     "duration": 0.035141,
     "end_time": "2022-08-01T05:41:17.306659",
     "exception": false,
     "start_time": "2022-08-01T05:41:17.271518",
     "status": "completed"
    },
    "tags": []
   },
   "outputs": [],
   "source": [
    "#Max Pooling\n",
    "cnn.add(tf.keras.layers.MaxPool2D(pool_size=(3,3),strides=3))"
   ]
  },
  {
   "cell_type": "code",
   "execution_count": 33,
   "id": "a787c26d",
   "metadata": {
    "_cell_guid": "858ca26c-8d58-4190-8b9d-847c0e7fc839",
    "_uuid": "8789e96f-4521-464b-abda-aa45cee8799c",
    "collapsed": false,
    "execution": {
     "iopub.execute_input": "2022-08-01T05:41:17.352798Z",
     "iopub.status.busy": "2022-08-01T05:41:17.352048Z",
     "iopub.status.idle": "2022-08-01T05:41:17.367926Z",
     "shell.execute_reply": "2022-08-01T05:41:17.367053Z"
    },
    "jupyter": {
     "outputs_hidden": false
    },
    "papermill": {
     "duration": 0.040916,
     "end_time": "2022-08-01T05:41:17.370016",
     "exception": false,
     "start_time": "2022-08-01T05:41:17.329100",
     "status": "completed"
    },
    "tags": []
   },
   "outputs": [],
   "source": [
    "cnn.add(tf.keras.layers.BatchNormalization())"
   ]
  },
  {
   "cell_type": "code",
   "execution_count": 34,
   "id": "c0af3dc6",
   "metadata": {
    "_cell_guid": "a8659382-d88e-4531-9caf-a28ee50a7270",
    "_uuid": "a4bf42ca-7b66-47a1-8724-0b643f5fa973",
    "collapsed": false,
    "execution": {
     "iopub.execute_input": "2022-08-01T05:41:17.415550Z",
     "iopub.status.busy": "2022-08-01T05:41:17.415263Z",
     "iopub.status.idle": "2022-08-01T05:41:17.427974Z",
     "shell.execute_reply": "2022-08-01T05:41:17.427152Z"
    },
    "jupyter": {
     "outputs_hidden": false
    },
    "papermill": {
     "duration": 0.037687,
     "end_time": "2022-08-01T05:41:17.429991",
     "exception": false,
     "start_time": "2022-08-01T05:41:17.392304",
     "status": "completed"
    },
    "tags": []
   },
   "outputs": [],
   "source": [
    "cnn.add(tf.keras.layers.Conv2D(filters=128,kernel_size=(4,4),activation='relu'))"
   ]
  },
  {
   "cell_type": "code",
   "execution_count": 35,
   "id": "44b2cb38",
   "metadata": {
    "_cell_guid": "68368585-46d0-41c3-af05-96bdbb5456f9",
    "_uuid": "3f989a87-c33a-4732-bf3a-10e2484c97c4",
    "collapsed": false,
    "execution": {
     "iopub.execute_input": "2022-08-01T05:41:17.476419Z",
     "iopub.status.busy": "2022-08-01T05:41:17.475592Z",
     "iopub.status.idle": "2022-08-01T05:41:17.483196Z",
     "shell.execute_reply": "2022-08-01T05:41:17.482406Z"
    },
    "jupyter": {
     "outputs_hidden": false
    },
    "papermill": {
     "duration": 0.032892,
     "end_time": "2022-08-01T05:41:17.485493",
     "exception": false,
     "start_time": "2022-08-01T05:41:17.452601",
     "status": "completed"
    },
    "tags": []
   },
   "outputs": [],
   "source": [
    "cnn.add(tf.keras.layers.MaxPool2D(pool_size=(2,2),strides=2))"
   ]
  },
  {
   "cell_type": "code",
   "execution_count": 36,
   "id": "79ece636",
   "metadata": {
    "_cell_guid": "d7643eae-9476-4165-bbd5-05594b122564",
    "_uuid": "a3b4964b-9b24-4725-a013-9bbc7b05b1df",
    "collapsed": false,
    "execution": {
     "iopub.execute_input": "2022-08-01T05:41:17.531486Z",
     "iopub.status.busy": "2022-08-01T05:41:17.530735Z",
     "iopub.status.idle": "2022-08-01T05:41:17.538822Z",
     "shell.execute_reply": "2022-08-01T05:41:17.538012Z"
    },
    "jupyter": {
     "outputs_hidden": false
    },
    "papermill": {
     "duration": 0.033242,
     "end_time": "2022-08-01T05:41:17.540826",
     "exception": false,
     "start_time": "2022-08-01T05:41:17.507584",
     "status": "completed"
    },
    "tags": []
   },
   "outputs": [],
   "source": [
    "#Flattening\n",
    "cnn.add(tf.keras.layers.Flatten())"
   ]
  },
  {
   "cell_type": "code",
   "execution_count": 37,
   "id": "8de2f347",
   "metadata": {
    "_cell_guid": "543375f1-397e-4362-ab6d-71a516c25839",
    "_uuid": "8d6fa77c-eda8-4286-a9d3-a4c984ca6d28",
    "collapsed": false,
    "execution": {
     "iopub.execute_input": "2022-08-01T05:41:17.587447Z",
     "iopub.status.busy": "2022-08-01T05:41:17.585922Z",
     "iopub.status.idle": "2022-08-01T05:41:17.598411Z",
     "shell.execute_reply": "2022-08-01T05:41:17.597673Z"
    },
    "jupyter": {
     "outputs_hidden": false
    },
    "papermill": {
     "duration": 0.037462,
     "end_time": "2022-08-01T05:41:17.600476",
     "exception": false,
     "start_time": "2022-08-01T05:41:17.563014",
     "status": "completed"
    },
    "tags": []
   },
   "outputs": [],
   "source": [
    "#Full connection \n",
    "cnn.add(tf.keras.layers.Dense(units=256,activation='relu'))"
   ]
  },
  {
   "cell_type": "code",
   "execution_count": 38,
   "id": "c43555e9",
   "metadata": {
    "_cell_guid": "5283b762-5e36-4e05-88df-ed11b956613b",
    "_uuid": "df3c5956-fdd2-4f2b-bcaf-0f127a9e8e0d",
    "collapsed": false,
    "execution": {
     "iopub.execute_input": "2022-08-01T05:41:17.646937Z",
     "iopub.status.busy": "2022-08-01T05:41:17.646201Z",
     "iopub.status.idle": "2022-08-01T05:41:17.658619Z",
     "shell.execute_reply": "2022-08-01T05:41:17.657760Z"
    },
    "jupyter": {
     "outputs_hidden": false
    },
    "papermill": {
     "duration": 0.03752,
     "end_time": "2022-08-01T05:41:17.660703",
     "exception": false,
     "start_time": "2022-08-01T05:41:17.623183",
     "status": "completed"
    },
    "tags": []
   },
   "outputs": [],
   "source": [
    "#Output Layer\n",
    "cnn.add(tf.keras.layers.Dense(units=10,activation='softmax'))"
   ]
  },
  {
   "cell_type": "code",
   "execution_count": 39,
   "id": "32e3a813",
   "metadata": {
    "_cell_guid": "19565f51-22a8-4d12-b1ed-68c874907dbe",
    "_uuid": "2d3ba214-7345-4f34-b3a1-f6083e0e2e3e",
    "collapsed": false,
    "execution": {
     "iopub.execute_input": "2022-08-01T05:41:17.707338Z",
     "iopub.status.busy": "2022-08-01T05:41:17.706623Z",
     "iopub.status.idle": "2022-08-01T05:41:17.718543Z",
     "shell.execute_reply": "2022-08-01T05:41:17.717735Z"
    },
    "jupyter": {
     "outputs_hidden": false
    },
    "papermill": {
     "duration": 0.036772,
     "end_time": "2022-08-01T05:41:17.720447",
     "exception": false,
     "start_time": "2022-08-01T05:41:17.683675",
     "status": "completed"
    },
    "tags": []
   },
   "outputs": [],
   "source": [
    "#Compile cnn\n",
    "cnn.compile(optimizer='adam',loss='categorical_crossentropy')"
   ]
  },
  {
   "cell_type": "code",
   "execution_count": 40,
   "id": "1f97e3b8",
   "metadata": {
    "_cell_guid": "f9a0a40c-e6f4-47f1-ae58-b8d3ad4cf07c",
    "_uuid": "c64a9af0-1210-4a2f-ba03-c40ac350812d",
    "collapsed": false,
    "execution": {
     "iopub.execute_input": "2022-08-01T05:41:17.766511Z",
     "iopub.status.busy": "2022-08-01T05:41:17.765664Z",
     "iopub.status.idle": "2022-08-01T05:46:06.849272Z",
     "shell.execute_reply": "2022-08-01T05:46:06.848229Z"
    },
    "jupyter": {
     "outputs_hidden": false
    },
    "papermill": {
     "duration": 289.108944,
     "end_time": "2022-08-01T05:46:06.851560",
     "exception": false,
     "start_time": "2022-08-01T05:41:17.742616",
     "status": "completed"
    },
    "tags": []
   },
   "outputs": [
    {
     "name": "stderr",
     "output_type": "stream",
     "text": [
      "2022-08-01 05:41:18.154328: I tensorflow/compiler/mlir/mlir_graph_optimization_pass.cc:185] None of the MLIR Optimization Passes are enabled (registered 2)\n"
     ]
    },
    {
     "name": "stdout",
     "output_type": "stream",
     "text": [
      "Epoch 1/50\n"
     ]
    },
    {
     "name": "stderr",
     "output_type": "stream",
     "text": [
      "2022-08-01 05:41:19.541340: I tensorflow/stream_executor/cuda/cuda_dnn.cc:369] Loaded cuDNN version 8005\n"
     ]
    },
    {
     "name": "stdout",
     "output_type": "stream",
     "text": [
      "1313/1313 [==============================] - 13s 5ms/step - loss: 0.1159\n",
      "Epoch 2/50\n",
      "1313/1313 [==============================] - 5s 4ms/step - loss: 0.0496\n",
      "Epoch 3/50\n",
      "1313/1313 [==============================] - 6s 4ms/step - loss: 0.0367\n",
      "Epoch 4/50\n",
      "1313/1313 [==============================] - 5s 4ms/step - loss: 0.0289\n",
      "Epoch 5/50\n",
      "1313/1313 [==============================] - 6s 4ms/step - loss: 0.0256\n",
      "Epoch 6/50\n",
      "1313/1313 [==============================] - 5s 4ms/step - loss: 0.0220\n",
      "Epoch 7/50\n",
      "1313/1313 [==============================] - 6s 4ms/step - loss: 0.0192\n",
      "Epoch 8/50\n",
      "1313/1313 [==============================] - 5s 4ms/step - loss: 0.0167\n",
      "Epoch 9/50\n",
      "1313/1313 [==============================] - 6s 4ms/step - loss: 0.0146\n",
      "Epoch 10/50\n",
      "1313/1313 [==============================] - 5s 4ms/step - loss: 0.0121\n",
      "Epoch 11/50\n",
      "1313/1313 [==============================] - 6s 4ms/step - loss: 0.0133\n",
      "Epoch 12/50\n",
      "1313/1313 [==============================] - 5s 4ms/step - loss: 0.0142\n",
      "Epoch 13/50\n",
      "1313/1313 [==============================] - 6s 4ms/step - loss: 0.0119\n",
      "Epoch 14/50\n",
      "1313/1313 [==============================] - 6s 4ms/step - loss: 0.0125\n",
      "Epoch 15/50\n",
      "1313/1313 [==============================] - 6s 4ms/step - loss: 0.0103\n",
      "Epoch 16/50\n",
      "1313/1313 [==============================] - 6s 4ms/step - loss: 0.0103\n",
      "Epoch 17/50\n",
      "1313/1313 [==============================] - 6s 4ms/step - loss: 0.0130\n",
      "Epoch 18/50\n",
      "1313/1313 [==============================] - 6s 4ms/step - loss: 0.0118\n",
      "Epoch 19/50\n",
      "1313/1313 [==============================] - 6s 4ms/step - loss: 0.0093\n",
      "Epoch 20/50\n",
      "1313/1313 [==============================] - 6s 4ms/step - loss: 0.0075\n",
      "Epoch 21/50\n",
      "1313/1313 [==============================] - 6s 4ms/step - loss: 0.0075\n",
      "Epoch 22/50\n",
      "1313/1313 [==============================] - 6s 5ms/step - loss: 0.0129\n",
      "Epoch 23/50\n",
      "1313/1313 [==============================] - 6s 4ms/step - loss: 0.0105\n",
      "Epoch 24/50\n",
      "1313/1313 [==============================] - 6s 4ms/step - loss: 0.0087\n",
      "Epoch 25/50\n",
      "1313/1313 [==============================] - 6s 4ms/step - loss: 0.0097\n",
      "Epoch 26/50\n",
      "1313/1313 [==============================] - 6s 4ms/step - loss: 0.0117\n",
      "Epoch 27/50\n",
      "1313/1313 [==============================] - 5s 4ms/step - loss: 0.0051\n",
      "Epoch 28/50\n",
      "1313/1313 [==============================] - 6s 5ms/step - loss: 0.0086\n",
      "Epoch 29/50\n",
      "1313/1313 [==============================] - 6s 4ms/step - loss: 0.0100\n",
      "Epoch 30/50\n",
      "1313/1313 [==============================] - 6s 4ms/step - loss: 0.0087\n",
      "Epoch 31/50\n",
      "1313/1313 [==============================] - 6s 4ms/step - loss: 0.0096\n",
      "Epoch 32/50\n",
      "1313/1313 [==============================] - 6s 4ms/step - loss: 0.0065\n",
      "Epoch 33/50\n",
      "1313/1313 [==============================] - 5s 4ms/step - loss: 0.0082\n",
      "Epoch 34/50\n",
      "1313/1313 [==============================] - 6s 4ms/step - loss: 0.0110\n",
      "Epoch 35/50\n",
      "1313/1313 [==============================] - 6s 4ms/step - loss: 0.0063\n",
      "Epoch 36/50\n",
      "1313/1313 [==============================] - 6s 4ms/step - loss: 0.0107\n",
      "Epoch 37/50\n",
      "1313/1313 [==============================] - 5s 4ms/step - loss: 0.0048\n",
      "Epoch 38/50\n",
      "1313/1313 [==============================] - 6s 4ms/step - loss: 0.0076\n",
      "Epoch 39/50\n",
      "1313/1313 [==============================] - 5s 4ms/step - loss: 0.0154\n",
      "Epoch 40/50\n",
      "1313/1313 [==============================] - 6s 4ms/step - loss: 0.0095\n",
      "Epoch 41/50\n",
      "1313/1313 [==============================] - 5s 4ms/step - loss: 0.0052\n",
      "Epoch 42/50\n",
      "1313/1313 [==============================] - 6s 4ms/step - loss: 0.0057\n",
      "Epoch 43/50\n",
      "1313/1313 [==============================] - 5s 4ms/step - loss: 0.0080\n",
      "Epoch 44/50\n",
      "1313/1313 [==============================] - 6s 4ms/step - loss: 0.0085\n",
      "Epoch 45/50\n",
      "1313/1313 [==============================] - 5s 4ms/step - loss: 0.0108\n",
      "Epoch 46/50\n",
      "1313/1313 [==============================] - 6s 4ms/step - loss: 0.0062\n",
      "Epoch 47/50\n",
      "1313/1313 [==============================] - 5s 4ms/step - loss: 0.0118\n",
      "Epoch 48/50\n",
      "1313/1313 [==============================] - 6s 4ms/step - loss: 0.0078\n",
      "Epoch 49/50\n",
      "1313/1313 [==============================] - 5s 4ms/step - loss: 0.0083\n",
      "Epoch 50/50\n",
      "1313/1313 [==============================] - 6s 4ms/step - loss: 0.0044\n"
     ]
    },
    {
     "data": {
      "text/plain": [
       "<keras.callbacks.History at 0x7f35f40ac710>"
      ]
     },
     "execution_count": 40,
     "metadata": {},
     "output_type": "execute_result"
    }
   ],
   "source": [
    "# Epoch（时期）：\n",
    "# 当一个完整的数据集通过了神经网络一次并且返回了一次，这个过程称为一次>epoch。（也就是说，所有训练样本在神经网络中都 进行了一次正向传播 和一次反向传播 ）\n",
    "# 再通俗一点，一个Epoch就是将所有训练样本训练一次的过程。\n",
    "# 然而，当一个Epoch的样本（也就是所有的训练样本）数量可能太过庞大（对于计算机而言），就需要把它分成多个小块，也就是就是分成多个Batch 来进行训练。**\n",
    "\n",
    "# Batch（批 / 一批样本）：\n",
    "# 将整个训练样本分成若干个Batch。\n",
    "\n",
    "# Batch_Size（批大小）：\n",
    "# 每批样本的大小。\n",
    "\n",
    "# Iteration（一次迭代）：\n",
    "# 训练一个Batch就是一次Iteration（这个概念跟程序语言中的迭代器相似）。\n",
    "\n",
    "cnn.fit(X_train,y_train,batch_size=32,epochs=50)"
   ]
  },
  {
   "cell_type": "code",
   "execution_count": 41,
   "id": "29880fc4",
   "metadata": {
    "_cell_guid": "e336688a-8474-4d27-9834-c4f6709dcd60",
    "_uuid": "f129f2f4-ac56-4102-b441-4d8e7c2aa525",
    "collapsed": false,
    "execution": {
     "iopub.execute_input": "2022-08-01T05:46:07.739397Z",
     "iopub.status.busy": "2022-08-01T05:46:07.738262Z",
     "iopub.status.idle": "2022-08-01T05:46:09.329464Z",
     "shell.execute_reply": "2022-08-01T05:46:09.328425Z"
    },
    "jupyter": {
     "outputs_hidden": false
    },
    "papermill": {
     "duration": 2.057,
     "end_time": "2022-08-01T05:46:09.332561",
     "exception": false,
     "start_time": "2022-08-01T05:46:07.275561",
     "status": "completed"
    },
    "tags": []
   },
   "outputs": [],
   "source": [
    "pred = cnn.predict(test)"
   ]
  },
  {
   "cell_type": "code",
   "execution_count": 42,
   "id": "9a9a8e73",
   "metadata": {
    "_cell_guid": "1b831e7a-3f2c-4303-bf9b-f65e00729bd0",
    "_uuid": "b5b7a74b-ff3d-447d-b6d5-10c5faa5a088",
    "collapsed": false,
    "execution": {
     "iopub.execute_input": "2022-08-01T05:46:10.175182Z",
     "iopub.status.busy": "2022-08-01T05:46:10.174807Z",
     "iopub.status.idle": "2022-08-01T05:46:10.179968Z",
     "shell.execute_reply": "2022-08-01T05:46:10.178986Z"
    },
    "jupyter": {
     "outputs_hidden": false
    },
    "papermill": {
     "duration": 0.428974,
     "end_time": "2022-08-01T05:46:10.181990",
     "exception": false,
     "start_time": "2022-08-01T05:46:09.753016",
     "status": "completed"
    },
    "tags": []
   },
   "outputs": [],
   "source": [
    "pred = np.argmax(pred,axis=1)"
   ]
  },
  {
   "cell_type": "code",
   "execution_count": 43,
   "id": "aa7405f7",
   "metadata": {
    "_cell_guid": "7a83e5d5-d6a1-428b-8a38-90fbc1c62998",
    "_uuid": "607dc177-52dd-4bf7-ae09-9d40aa41517b",
    "collapsed": false,
    "execution": {
     "iopub.execute_input": "2022-08-01T05:46:11.032049Z",
     "iopub.status.busy": "2022-08-01T05:46:11.031675Z",
     "iopub.status.idle": "2022-08-01T05:46:11.038344Z",
     "shell.execute_reply": "2022-08-01T05:46:11.037429Z"
    },
    "jupyter": {
     "outputs_hidden": false
    },
    "papermill": {
     "duration": 0.439326,
     "end_time": "2022-08-01T05:46:11.041183",
     "exception": false,
     "start_time": "2022-08-01T05:46:10.601857",
     "status": "completed"
    },
    "tags": []
   },
   "outputs": [
    {
     "data": {
      "text/plain": [
       "array([2, 0, 9, ..., 3, 9, 2])"
      ]
     },
     "execution_count": 43,
     "metadata": {},
     "output_type": "execute_result"
    }
   ],
   "source": [
    "pred"
   ]
  },
  {
   "cell_type": "code",
   "execution_count": 44,
   "id": "0f9a9945",
   "metadata": {
    "_cell_guid": "5cd4519e-9e63-4621-b1f9-bd1880e813b9",
    "_uuid": "258b6d65-3899-41c8-8a11-6193af51d170",
    "collapsed": false,
    "execution": {
     "iopub.execute_input": "2022-08-01T05:46:11.953306Z",
     "iopub.status.busy": "2022-08-01T05:46:11.952925Z",
     "iopub.status.idle": "2022-08-01T05:46:11.958506Z",
     "shell.execute_reply": "2022-08-01T05:46:11.957512Z"
    },
    "jupyter": {
     "outputs_hidden": false
    },
    "papermill": {
     "duration": 0.438293,
     "end_time": "2022-08-01T05:46:11.960723",
     "exception": false,
     "start_time": "2022-08-01T05:46:11.522430",
     "status": "completed"
    },
    "tags": []
   },
   "outputs": [],
   "source": [
    "pred = pd.DataFrame(pred,columns=['Label'])"
   ]
  },
  {
   "cell_type": "code",
   "execution_count": 45,
   "id": "7672e546",
   "metadata": {
    "_cell_guid": "eb0f1429-7381-4c2e-9057-042b7f571b82",
    "_uuid": "92518897-0063-4b43-a98f-c39bdf19390e",
    "collapsed": false,
    "execution": {
     "iopub.execute_input": "2022-08-01T05:46:12.788832Z",
     "iopub.status.busy": "2022-08-01T05:46:12.788459Z",
     "iopub.status.idle": "2022-08-01T05:46:12.794154Z",
     "shell.execute_reply": "2022-08-01T05:46:12.793074Z"
    },
    "jupyter": {
     "outputs_hidden": false
    },
    "papermill": {
     "duration": 0.423742,
     "end_time": "2022-08-01T05:46:12.796807",
     "exception": false,
     "start_time": "2022-08-01T05:46:12.373065",
     "status": "completed"
    },
    "tags": []
   },
   "outputs": [],
   "source": [
    "test_id = list(range(1,len(test)+1,1))"
   ]
  },
  {
   "cell_type": "code",
   "execution_count": 46,
   "id": "b8a564c4",
   "metadata": {
    "_cell_guid": "7ea1c737-c987-476f-9d0a-01fd05fe7719",
    "_uuid": "5b6af245-ef9f-4402-a7fe-d71e8a01d6a5",
    "collapsed": false,
    "execution": {
     "iopub.execute_input": "2022-08-01T05:46:13.863944Z",
     "iopub.status.busy": "2022-08-01T05:46:13.863566Z",
     "iopub.status.idle": "2022-08-01T05:46:13.880209Z",
     "shell.execute_reply": "2022-08-01T05:46:13.879298Z"
    },
    "jupyter": {
     "outputs_hidden": false
    },
    "papermill": {
     "duration": 0.49839,
     "end_time": "2022-08-01T05:46:13.882423",
     "exception": false,
     "start_time": "2022-08-01T05:46:13.384033",
     "status": "completed"
    },
    "tags": []
   },
   "outputs": [],
   "source": [
    "test_id = pd.DataFrame(test_id,columns=['ImageId'])"
   ]
  },
  {
   "cell_type": "code",
   "execution_count": 47,
   "id": "7a3d2d1d",
   "metadata": {
    "_cell_guid": "95766bfd-d012-4c34-b84b-cac4487aca61",
    "_uuid": "d726fb5d-6c9c-498e-b4d0-fc30dd8705e5",
    "collapsed": false,
    "execution": {
     "iopub.execute_input": "2022-08-01T05:46:14.731126Z",
     "iopub.status.busy": "2022-08-01T05:46:14.730397Z",
     "iopub.status.idle": "2022-08-01T05:46:14.736195Z",
     "shell.execute_reply": "2022-08-01T05:46:14.735232Z"
    },
    "jupyter": {
     "outputs_hidden": false
    },
    "papermill": {
     "duration": 0.43471,
     "end_time": "2022-08-01T05:46:14.738780",
     "exception": false,
     "start_time": "2022-08-01T05:46:14.304070",
     "status": "completed"
    },
    "tags": []
   },
   "outputs": [],
   "source": [
    "submission = pd.concat([test_id,pred],axis=1)"
   ]
  },
  {
   "cell_type": "code",
   "execution_count": 48,
   "id": "a2757171",
   "metadata": {
    "_cell_guid": "1db5ee05-f688-4a15-a464-36686d8c39d7",
    "_uuid": "c347cc4f-1a33-48fa-bc4b-225c39dac219",
    "collapsed": false,
    "execution": {
     "iopub.execute_input": "2022-08-01T05:46:15.619914Z",
     "iopub.status.busy": "2022-08-01T05:46:15.619540Z",
     "iopub.status.idle": "2022-08-01T05:46:15.639632Z",
     "shell.execute_reply": "2022-08-01T05:46:15.638436Z"
    },
    "jupyter": {
     "outputs_hidden": false
    },
    "papermill": {
     "duration": 0.483706,
     "end_time": "2022-08-01T05:46:15.642684",
     "exception": false,
     "start_time": "2022-08-01T05:46:15.158978",
     "status": "completed"
    },
    "tags": []
   },
   "outputs": [
    {
     "data": {
      "text/html": [
       "<div>\n",
       "<style scoped>\n",
       "    .dataframe tbody tr th:only-of-type {\n",
       "        vertical-align: middle;\n",
       "    }\n",
       "\n",
       "    .dataframe tbody tr th {\n",
       "        vertical-align: top;\n",
       "    }\n",
       "\n",
       "    .dataframe thead th {\n",
       "        text-align: right;\n",
       "    }\n",
       "</style>\n",
       "<table border=\"1\" class=\"dataframe\">\n",
       "  <thead>\n",
       "    <tr style=\"text-align: right;\">\n",
       "      <th></th>\n",
       "      <th>ImageId</th>\n",
       "      <th>Label</th>\n",
       "    </tr>\n",
       "  </thead>\n",
       "  <tbody>\n",
       "    <tr>\n",
       "      <th>count</th>\n",
       "      <td>28000.000000</td>\n",
       "      <td>28000.000000</td>\n",
       "    </tr>\n",
       "    <tr>\n",
       "      <th>mean</th>\n",
       "      <td>14000.500000</td>\n",
       "      <td>4.453036</td>\n",
       "    </tr>\n",
       "    <tr>\n",
       "      <th>std</th>\n",
       "      <td>8083.048105</td>\n",
       "      <td>2.896665</td>\n",
       "    </tr>\n",
       "    <tr>\n",
       "      <th>min</th>\n",
       "      <td>1.000000</td>\n",
       "      <td>0.000000</td>\n",
       "    </tr>\n",
       "    <tr>\n",
       "      <th>25%</th>\n",
       "      <td>7000.750000</td>\n",
       "      <td>2.000000</td>\n",
       "    </tr>\n",
       "    <tr>\n",
       "      <th>50%</th>\n",
       "      <td>14000.500000</td>\n",
       "      <td>4.000000</td>\n",
       "    </tr>\n",
       "    <tr>\n",
       "      <th>75%</th>\n",
       "      <td>21000.250000</td>\n",
       "      <td>7.000000</td>\n",
       "    </tr>\n",
       "    <tr>\n",
       "      <th>max</th>\n",
       "      <td>28000.000000</td>\n",
       "      <td>9.000000</td>\n",
       "    </tr>\n",
       "  </tbody>\n",
       "</table>\n",
       "</div>"
      ],
      "text/plain": [
       "            ImageId         Label\n",
       "count  28000.000000  28000.000000\n",
       "mean   14000.500000      4.453036\n",
       "std     8083.048105      2.896665\n",
       "min        1.000000      0.000000\n",
       "25%     7000.750000      2.000000\n",
       "50%    14000.500000      4.000000\n",
       "75%    21000.250000      7.000000\n",
       "max    28000.000000      9.000000"
      ]
     },
     "execution_count": 48,
     "metadata": {},
     "output_type": "execute_result"
    }
   ],
   "source": [
    "submission.describe()"
   ]
  },
  {
   "cell_type": "code",
   "execution_count": 49,
   "id": "0779cc78",
   "metadata": {
    "_cell_guid": "05498243-5a1e-4cd9-a8ec-e62c2ee23c92",
    "_uuid": "830b3756-dd2f-4cff-ba05-c256ce714298",
    "collapsed": false,
    "execution": {
     "iopub.execute_input": "2022-08-01T05:46:16.486534Z",
     "iopub.status.busy": "2022-08-01T05:46:16.485579Z",
     "iopub.status.idle": "2022-08-01T05:46:16.533358Z",
     "shell.execute_reply": "2022-08-01T05:46:16.532503Z"
    },
    "jupyter": {
     "outputs_hidden": false
    },
    "papermill": {
     "duration": 0.471331,
     "end_time": "2022-08-01T05:46:16.535596",
     "exception": false,
     "start_time": "2022-08-01T05:46:16.064265",
     "status": "completed"
    },
    "tags": []
   },
   "outputs": [],
   "source": [
    "submission.to_csv('./submission.csv',index=False)"
   ]
  },
  {
   "cell_type": "code",
   "execution_count": null,
   "id": "f5fc966f",
   "metadata": {
    "_cell_guid": "49f509e5-bb53-4a55-a322-0a646439e286",
    "_uuid": "857b5ce9-7608-4695-8a30-b8be6cbed23e",
    "collapsed": false,
    "jupyter": {
     "outputs_hidden": false
    },
    "papermill": {
     "duration": 0.421239,
     "end_time": "2022-08-01T05:46:17.375097",
     "exception": false,
     "start_time": "2022-08-01T05:46:16.953858",
     "status": "completed"
    },
    "tags": []
   },
   "outputs": [],
   "source": []
  }
 ],
 "metadata": {
  "kernelspec": {
   "display_name": "Python 3",
   "language": "python",
   "name": "python3"
  },
  "language_info": {
   "codemirror_mode": {
    "name": "ipython",
    "version": 3
   },
   "file_extension": ".py",
   "mimetype": "text/x-python",
   "name": "python",
   "nbconvert_exporter": "python",
   "pygments_lexer": "ipython3",
   "version": "3.7.12"
  },
  "papermill": {
   "default_parameters": {},
   "duration": 336.67275,
   "end_time": "2022-08-01T05:46:21.103399",
   "environment_variables": {},
   "exception": null,
   "input_path": "__notebook__.ipynb",
   "output_path": "__notebook__.ipynb",
   "parameters": {},
   "start_time": "2022-08-01T05:40:44.430649",
   "version": "2.3.4"
  }
 },
 "nbformat": 4,
 "nbformat_minor": 5
}
